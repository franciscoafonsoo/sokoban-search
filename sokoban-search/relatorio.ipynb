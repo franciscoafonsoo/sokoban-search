{
 "cells": [
  {
   "cell_type": "markdown",
   "metadata": {},
   "source": [
    "# Resolução de puzzles Sokoban"
   ]
  },
  {
   "cell_type": "markdown",
   "metadata": {},
   "source": [
    "## Formulação\n",
    "\n",
    "### Atributos\n",
    "\n",
    "Foi escolhido representar um estado do puzzle sokoban usando uma class `EstadoSokoban` que tem como atributos:\n",
    "\n",
    "- `tabuleiro`: lista de listas que representa o puzzle: Cada uma das listas interiores vão ter:\n",
    "\n",
    "    - ’#’   – para representar as paredes;\n",
    "    \n",
    "    - ’.’   – para representar as posições livres;\n",
    "    \n",
    "    - ’*’   – para representar as caixas;\n",
    "    \n",
    "    - ’o’   – (um ó minúsculo) para representar os alvos;\n",
    "    \n",
    "    - ’A’   – para representar o arrumador.\n",
    "    \n",
    "    - ’@’   – para representar uma caixa numa posição alvo.\n",
    "    \n",
    "    - ’B’   – para representar o arrumador em cima de uma posição alvo.\n",
    "    \n",
    "- `arrumador`: posição do arrumador, tuplo xy.\n",
    "\n",
    "- `caixas`: posição das caixas, tuplo xy.\n",
    "\n",
    "- `alvos`: posição dos alvos, tuplo xy.\n",
    "\n",
    "- `deadlocks`: posição de deadlocks, executando `deadlocks_tabuleiro()`\n",
    "\n",
    "### Métodos\n",
    "\n",
    "Para além da representação, foram implementados os seguintes métodos:\n",
    "\n",
    "- `pos_livre(self, x, y)`: verifica se uma posição do puzzle está livre, isto é, se o arrumador por andar para lá.\n",
    "\n",
    "- `pos_caixa(self, x, y)`: verifica se uma posição do puzzle tem uma caixa.\n",
    "\n",
    "- `ver_*(self, x, y)`: usa as funções anteriores para verificar a posição \"cima\", \"baixo\", \"direita\" e \"esquerda\" (cada uma destas opções são um método diferente.\n",
    "\n",
    "## Nota sobre este relatório\n",
    "\n",
    "Utilizamos a ferramenta Jupyter Notebook, para tirar proveito de algumas funcionalidades do IPython para análise estatística da execução dos algoritmos."
   ]
  },
  {
   "cell_type": "markdown",
   "metadata": {},
   "source": [
    "## Heurísticas definidas"
   ]
  },
  {
   "cell_type": "markdown",
   "metadata": {},
   "source": [
    "Considere-se $n$ caixas e $m$ alvos. No jogo sokoban, $n=m$ para qualquer jogo. "
   ]
  },
  {
   "cell_type": "markdown",
   "metadata": {},
   "source": [
    "Vamos então construir um grafo bipartido completo $K_{n,m}$."
   ]
  },
  {
   "cell_type": "markdown",
   "metadata": {},
   "source": [
    "Ao associar um custo às arestas de cada nodo caixa a um nodo alvo (neste caso baseado na distância de manhattan), passamos a ter um problema de afetação, para o qual existe uma série de algoritmos que, sabendo que cada nodo n só vai estar asssociado a um nodo m, permitem escolher qual a combinação de menor custo."
   ]
  },
  {
   "cell_type": "markdown",
   "metadata": {},
   "source": [
    "Nesta heurística, foi escolhido o algoritmo hungáro (dado que é um algoritmo estudado no âmbito das cadeira de Investigação Operacional e Grafos e Redes) para associar uma caixa a um alvo, baseado na melhor combinação de custos (Minimizar o custo global de $K_{n,m}$)."
   ]
  },
  {
   "cell_type": "markdown",
   "metadata": {},
   "source": [
    "A complexidade temporal deste algoritmo é de $O(n^3)$, que é bastante pesado computacional- mente, mas visto que nos puzzles dados n ≤ 3, vai ser possivel calcular este algoritmo em tempo útil, como vamos testar na proximá secção.\n",
    "Para não implementar o algoritmo hungáro de raíz, foi utilizada a implementação [1]: https://github.com/bmc/munkres.\n",
    "Todo o código necessário está disponivel no ficheiro hungarian.py"
   ]
  },
  {
   "cell_type": "markdown",
   "metadata": {},
   "source": [
    "## Exemplos de execução"
   ]
  },
  {
   "cell_type": "markdown",
   "metadata": {},
   "source": [
    "No ficheiro `sokoban.py` estão as classes principais para a execução do puzzle. Todo o código de análise execução (apresentado neste relatório) está no ficheiro `run-sokoban.py`."
   ]
  },
  {
   "cell_type": "code",
   "execution_count": 1,
   "metadata": {},
   "outputs": [
    {
     "name": "stdout",
     "output_type": "stream",
     "text": [
      "\n",
      "IPython CPU timings (estimated):\n",
      "  User   :       0.01 s.\n",
      "  System :       0.00 s.\n",
      "Wall time:       0.01 s.\n"
     ]
    }
   ],
   "source": [
    "%run -t sokoban.py"
   ]
  },
  {
   "cell_type": "markdown",
   "metadata": {},
   "source": [
    "## Análise dos algoritmos experimentados"
   ]
  },
  {
   "cell_type": "markdown",
   "metadata": {},
   "source": [
    "Vai ser utilizado o puzzle2, entregue no enunciado, para testar os algorimos disponíveis no ficheiro `search.py`, do repositório aima-python, disponibilizado nas aulas."
   ]
  },
  {
   "cell_type": "markdown",
   "metadata": {},
   "source": [
    "A função (definida em baixo) `statistics` é método  para imprimir dados da resolução de um problema Sokoban."
   ]
  },
  {
   "cell_type": "code",
   "execution_count": 11,
   "metadata": {},
   "outputs": [],
   "source": [
    "sokoban = Sokoban(puzzle2)\n",
    "\n",
    "def statistics(resultado, caminho=False):\n",
    "    path = resultado.path()\n",
    "    solucao = resultado.solution()\n",
    "    number_moves = 0\n",
    "    number_pushes = 0\n",
    "\n",
    "    for index, action in enumerate(solucao):\n",
    "        accao, _ = action.split()\n",
    "        if accao == 'andar':\n",
    "            number_moves += 1\n",
    "        else:\n",
    "            number_pushes += 1\n",
    "\n",
    "    for index, state in enumerate(path):\n",
    "        if caminho:\n",
    "            print(state)\n",
    "    else:\n",
    "        print('Número de passos:', index)\n",
    "\n",
    "    print('Números de moves:', number_moves)\n",
    "    print('Números de pushes:', number_pushes)"
   ]
  },
  {
   "cell_type": "code",
   "execution_count": 3,
   "metadata": {},
   "outputs": [
    {
     "name": "stdout",
     "output_type": "stream",
     "text": [
      "1.73 s ± 223 ms per loop (mean ± std. dev. of 7 runs, 1 loop each)\n"
     ]
    }
   ],
   "source": [
    "%%timeit \n",
    "ucs_resultado = uniform_cost_search(sokoban)"
   ]
  },
  {
   "cell_type": "code",
   "execution_count": 4,
   "metadata": {},
   "outputs": [
    {
     "name": "stdout",
     "output_type": "stream",
     "text": [
      "1.7 s ± 254 ms per loop (mean ± std. dev. of 7 runs, 1 loop each)\n"
     ]
    }
   ],
   "source": [
    "%%timeit\n",
    "bfs_resultado = breadth_first_search(sokoban)"
   ]
  },
  {
   "cell_type": "code",
   "execution_count": 5,
   "metadata": {},
   "outputs": [
    {
     "name": "stdout",
     "output_type": "stream",
     "text": [
      "Número de passos: 43\n",
      "Números de moves: 31\n",
      "Números de pushes: 12\n"
     ]
    }
   ],
   "source": [
    "bfs_resultado = breadth_first_search(sokoban)\n",
    "statistics(bfs_resultado)"
   ]
  },
  {
   "cell_type": "code",
   "execution_count": 6,
   "metadata": {},
   "outputs": [
    {
     "name": "stdout",
     "output_type": "stream",
     "text": [
      "Número de passos: 43\n",
      "Números de moves: 31\n",
      "Números de pushes: 12\n"
     ]
    }
   ],
   "source": [
    "ucs_resultado = uniform_cost_search(sokoban)\n",
    "statistics(ucs_resultado)"
   ]
  },
  {
   "cell_type": "code",
   "execution_count": 7,
   "metadata": {},
   "outputs": [
    {
     "name": "stdout",
     "output_type": "stream",
     "text": [
      "1.48 s ± 49.2 ms per loop (mean ± std. dev. of 7 runs, 1 loop each)\n"
     ]
    }
   ],
   "source": [
    "%%timeit\n",
    "astar_resultado = astar_search(sokoban, hung_alg_manh)"
   ]
  },
  {
   "cell_type": "code",
   "execution_count": 8,
   "metadata": {},
   "outputs": [],
   "source": [
    "from hungarian import Munkres\n",
    "\n",
    "def hung_alg_manh(nodo):\n",
    "    \"\"\"Algoritmo hungaro, em que o custo de cada caixa a um alvo é a distância de manhattan.\"\"\"\n",
    "    m = Munkres()\n",
    "        \n",
    "    caixas = nodo.state.caixas\n",
    "    alvos = nodo.state.alvos\n",
    "    custo = list()\n",
    "    mhd = 0\n",
    "\n",
    "    for index, c in enumerate(caixas):\n",
    "        custo.append(list())\n",
    "        for a in alvos:\n",
    "            custo[index].append(abs(c[0] - a[0]) + abs(c[1] - a[1]))\n",
    "    \n",
    "    indexes = m.compute(custo)\n",
    "    for row, column in indexes:\n",
    "        value = custo[row][column]\n",
    "        mhd += value\n",
    "    \n",
    "    return mhd"
   ]
  },
  {
   "cell_type": "code",
   "execution_count": 9,
   "metadata": {},
   "outputs": [
    {
     "name": "stdout",
     "output_type": "stream",
     "text": [
      "\u001b[1m#\u001b[0m\u001b[1m#\u001b[0m\u001b[1m#\u001b[0m\u001b[1m#\u001b[0m\u001b[1m#\u001b[0m\u001b[1m#\u001b[0m\u001b[1m#\u001b[0m\n",
      "\u001b[1m#\u001b[0m\u001b[1m#\u001b[0m    \u001b[1m#\u001b[0m\n",
      "\u001b[1m#\u001b[0m\u001b[1m#\u001b[0m\u001b[91m*\u001b[0m \u001b[95mo\u001b[0m \u001b[1m#\u001b[0m\n",
      "\u001b[1m#\u001b[0m  \u001b[36mA\u001b[0m  \u001b[1m#\u001b[0m\n",
      "\u001b[1m#\u001b[0m \u001b[91m*\u001b[0m\u001b[1m#\u001b[0m\u001b[95mo\u001b[0m \u001b[1m#\u001b[0m\n",
      "\u001b[1m#\u001b[0m  \u001b[1m#\u001b[0m\u001b[1m#\u001b[0m\u001b[1m#\u001b[0m\u001b[1m#\u001b[0m\n",
      "\u001b[1m#\u001b[0m\u001b[1m#\u001b[0m\u001b[1m#\u001b[0m\u001b[1m#\u001b[0m\u001b[1m#\u001b[0m\u001b[1m#\u001b[0m\u001b[1m#\u001b[0m\n",
      "\n",
      "\u001b[1m#\u001b[0m\u001b[1m#\u001b[0m\u001b[1m#\u001b[0m\u001b[1m#\u001b[0m\u001b[1m#\u001b[0m\u001b[1m#\u001b[0m\u001b[1m#\u001b[0m\n",
      "\u001b[1m#\u001b[0m\u001b[1m#\u001b[0m    \u001b[1m#\u001b[0m\n",
      "\u001b[1m#\u001b[0m\u001b[1m#\u001b[0m\u001b[91m*\u001b[0m \u001b[95mo\u001b[0m \u001b[1m#\u001b[0m\n",
      "\u001b[1m#\u001b[0m \u001b[36mA\u001b[0m   \u001b[1m#\u001b[0m\n",
      "\u001b[1m#\u001b[0m \u001b[91m*\u001b[0m\u001b[1m#\u001b[0m\u001b[95mo\u001b[0m \u001b[1m#\u001b[0m\n",
      "\u001b[1m#\u001b[0m  \u001b[1m#\u001b[0m\u001b[1m#\u001b[0m\u001b[1m#\u001b[0m\u001b[1m#\u001b[0m\n",
      "\u001b[1m#\u001b[0m\u001b[1m#\u001b[0m\u001b[1m#\u001b[0m\u001b[1m#\u001b[0m\u001b[1m#\u001b[0m\u001b[1m#\u001b[0m\u001b[1m#\u001b[0m\n",
      "\n",
      "\u001b[1m#\u001b[0m\u001b[1m#\u001b[0m\u001b[1m#\u001b[0m\u001b[1m#\u001b[0m\u001b[1m#\u001b[0m\u001b[1m#\u001b[0m\u001b[1m#\u001b[0m\n",
      "\u001b[1m#\u001b[0m\u001b[1m#\u001b[0m    \u001b[1m#\u001b[0m\n",
      "\u001b[1m#\u001b[0m\u001b[1m#\u001b[0m\u001b[91m*\u001b[0m \u001b[95mo\u001b[0m \u001b[1m#\u001b[0m\n",
      "\u001b[1m#\u001b[0m\u001b[36mA\u001b[0m    \u001b[1m#\u001b[0m\n",
      "\u001b[1m#\u001b[0m \u001b[91m*\u001b[0m\u001b[1m#\u001b[0m\u001b[95mo\u001b[0m \u001b[1m#\u001b[0m\n",
      "\u001b[1m#\u001b[0m  \u001b[1m#\u001b[0m\u001b[1m#\u001b[0m\u001b[1m#\u001b[0m\u001b[1m#\u001b[0m\n",
      "\u001b[1m#\u001b[0m\u001b[1m#\u001b[0m\u001b[1m#\u001b[0m\u001b[1m#\u001b[0m\u001b[1m#\u001b[0m\u001b[1m#\u001b[0m\u001b[1m#\u001b[0m\n",
      "\n",
      "\u001b[1m#\u001b[0m\u001b[1m#\u001b[0m\u001b[1m#\u001b[0m\u001b[1m#\u001b[0m\u001b[1m#\u001b[0m\u001b[1m#\u001b[0m\u001b[1m#\u001b[0m\n",
      "\u001b[1m#\u001b[0m\u001b[1m#\u001b[0m    \u001b[1m#\u001b[0m\n",
      "\u001b[1m#\u001b[0m\u001b[1m#\u001b[0m\u001b[91m*\u001b[0m \u001b[95mo\u001b[0m \u001b[1m#\u001b[0m\n",
      "\u001b[1m#\u001b[0m     \u001b[1m#\u001b[0m\n",
      "\u001b[1m#\u001b[0m\u001b[36mA\u001b[0m\u001b[91m*\u001b[0m\u001b[1m#\u001b[0m\u001b[95mo\u001b[0m \u001b[1m#\u001b[0m\n",
      "\u001b[1m#\u001b[0m  \u001b[1m#\u001b[0m\u001b[1m#\u001b[0m\u001b[1m#\u001b[0m\u001b[1m#\u001b[0m\n",
      "\u001b[1m#\u001b[0m\u001b[1m#\u001b[0m\u001b[1m#\u001b[0m\u001b[1m#\u001b[0m\u001b[1m#\u001b[0m\u001b[1m#\u001b[0m\u001b[1m#\u001b[0m\n",
      "\n",
      "\u001b[1m#\u001b[0m\u001b[1m#\u001b[0m\u001b[1m#\u001b[0m\u001b[1m#\u001b[0m\u001b[1m#\u001b[0m\u001b[1m#\u001b[0m\u001b[1m#\u001b[0m\n",
      "\u001b[1m#\u001b[0m\u001b[1m#\u001b[0m    \u001b[1m#\u001b[0m\n",
      "\u001b[1m#\u001b[0m\u001b[1m#\u001b[0m\u001b[91m*\u001b[0m \u001b[95mo\u001b[0m \u001b[1m#\u001b[0m\n",
      "\u001b[1m#\u001b[0m     \u001b[1m#\u001b[0m\n",
      "\u001b[1m#\u001b[0m \u001b[91m*\u001b[0m\u001b[1m#\u001b[0m\u001b[95mo\u001b[0m \u001b[1m#\u001b[0m\n",
      "\u001b[1m#\u001b[0m\u001b[36mA\u001b[0m \u001b[1m#\u001b[0m\u001b[1m#\u001b[0m\u001b[1m#\u001b[0m\u001b[1m#\u001b[0m\n",
      "\u001b[1m#\u001b[0m\u001b[1m#\u001b[0m\u001b[1m#\u001b[0m\u001b[1m#\u001b[0m\u001b[1m#\u001b[0m\u001b[1m#\u001b[0m\u001b[1m#\u001b[0m\n",
      "\n",
      "\u001b[1m#\u001b[0m\u001b[1m#\u001b[0m\u001b[1m#\u001b[0m\u001b[1m#\u001b[0m\u001b[1m#\u001b[0m\u001b[1m#\u001b[0m\u001b[1m#\u001b[0m\n",
      "\u001b[1m#\u001b[0m\u001b[1m#\u001b[0m    \u001b[1m#\u001b[0m\n",
      "\u001b[1m#\u001b[0m\u001b[1m#\u001b[0m\u001b[91m*\u001b[0m \u001b[95mo\u001b[0m \u001b[1m#\u001b[0m\n",
      "\u001b[1m#\u001b[0m     \u001b[1m#\u001b[0m\n",
      "\u001b[1m#\u001b[0m \u001b[91m*\u001b[0m\u001b[1m#\u001b[0m\u001b[95mo\u001b[0m \u001b[1m#\u001b[0m\n",
      "\u001b[1m#\u001b[0m \u001b[36mA\u001b[0m\u001b[1m#\u001b[0m\u001b[1m#\u001b[0m\u001b[1m#\u001b[0m\u001b[1m#\u001b[0m\n",
      "\u001b[1m#\u001b[0m\u001b[1m#\u001b[0m\u001b[1m#\u001b[0m\u001b[1m#\u001b[0m\u001b[1m#\u001b[0m\u001b[1m#\u001b[0m\u001b[1m#\u001b[0m\n",
      "\n",
      "\u001b[1m#\u001b[0m\u001b[1m#\u001b[0m\u001b[1m#\u001b[0m\u001b[1m#\u001b[0m\u001b[1m#\u001b[0m\u001b[1m#\u001b[0m\u001b[1m#\u001b[0m\n",
      "\u001b[1m#\u001b[0m\u001b[1m#\u001b[0m    \u001b[1m#\u001b[0m\n",
      "\u001b[1m#\u001b[0m\u001b[1m#\u001b[0m\u001b[91m*\u001b[0m \u001b[95mo\u001b[0m \u001b[1m#\u001b[0m\n",
      "\u001b[1m#\u001b[0m \u001b[91m*\u001b[0m   \u001b[1m#\u001b[0m\n",
      "\u001b[1m#\u001b[0m \u001b[36mA\u001b[0m\u001b[1m#\u001b[0m\u001b[95mo\u001b[0m \u001b[1m#\u001b[0m\n",
      "\u001b[1m#\u001b[0m  \u001b[1m#\u001b[0m\u001b[1m#\u001b[0m\u001b[1m#\u001b[0m\u001b[1m#\u001b[0m\n",
      "\u001b[1m#\u001b[0m\u001b[1m#\u001b[0m\u001b[1m#\u001b[0m\u001b[1m#\u001b[0m\u001b[1m#\u001b[0m\u001b[1m#\u001b[0m\u001b[1m#\u001b[0m\n",
      "\n",
      "\u001b[1m#\u001b[0m\u001b[1m#\u001b[0m\u001b[1m#\u001b[0m\u001b[1m#\u001b[0m\u001b[1m#\u001b[0m\u001b[1m#\u001b[0m\u001b[1m#\u001b[0m\n",
      "\u001b[1m#\u001b[0m\u001b[1m#\u001b[0m    \u001b[1m#\u001b[0m\n",
      "\u001b[1m#\u001b[0m\u001b[1m#\u001b[0m\u001b[91m*\u001b[0m \u001b[95mo\u001b[0m \u001b[1m#\u001b[0m\n",
      "\u001b[1m#\u001b[0m \u001b[91m*\u001b[0m   \u001b[1m#\u001b[0m\n",
      "\u001b[1m#\u001b[0m\u001b[36mA\u001b[0m \u001b[1m#\u001b[0m\u001b[95mo\u001b[0m \u001b[1m#\u001b[0m\n",
      "\u001b[1m#\u001b[0m  \u001b[1m#\u001b[0m\u001b[1m#\u001b[0m\u001b[1m#\u001b[0m\u001b[1m#\u001b[0m\n",
      "\u001b[1m#\u001b[0m\u001b[1m#\u001b[0m\u001b[1m#\u001b[0m\u001b[1m#\u001b[0m\u001b[1m#\u001b[0m\u001b[1m#\u001b[0m\u001b[1m#\u001b[0m\n",
      "\n",
      "\u001b[1m#\u001b[0m\u001b[1m#\u001b[0m\u001b[1m#\u001b[0m\u001b[1m#\u001b[0m\u001b[1m#\u001b[0m\u001b[1m#\u001b[0m\u001b[1m#\u001b[0m\n",
      "\u001b[1m#\u001b[0m\u001b[1m#\u001b[0m    \u001b[1m#\u001b[0m\n",
      "\u001b[1m#\u001b[0m\u001b[1m#\u001b[0m\u001b[91m*\u001b[0m \u001b[95mo\u001b[0m \u001b[1m#\u001b[0m\n",
      "\u001b[1m#\u001b[0m\u001b[36mA\u001b[0m\u001b[91m*\u001b[0m   \u001b[1m#\u001b[0m\n",
      "\u001b[1m#\u001b[0m  \u001b[1m#\u001b[0m\u001b[95mo\u001b[0m \u001b[1m#\u001b[0m\n",
      "\u001b[1m#\u001b[0m  \u001b[1m#\u001b[0m\u001b[1m#\u001b[0m\u001b[1m#\u001b[0m\u001b[1m#\u001b[0m\n",
      "\u001b[1m#\u001b[0m\u001b[1m#\u001b[0m\u001b[1m#\u001b[0m\u001b[1m#\u001b[0m\u001b[1m#\u001b[0m\u001b[1m#\u001b[0m\u001b[1m#\u001b[0m\n",
      "\n",
      "\u001b[1m#\u001b[0m\u001b[1m#\u001b[0m\u001b[1m#\u001b[0m\u001b[1m#\u001b[0m\u001b[1m#\u001b[0m\u001b[1m#\u001b[0m\u001b[1m#\u001b[0m\n",
      "\u001b[1m#\u001b[0m\u001b[1m#\u001b[0m    \u001b[1m#\u001b[0m\n",
      "\u001b[1m#\u001b[0m\u001b[1m#\u001b[0m\u001b[91m*\u001b[0m \u001b[95mo\u001b[0m \u001b[1m#\u001b[0m\n",
      "\u001b[1m#\u001b[0m \u001b[36mA\u001b[0m\u001b[91m*\u001b[0m  \u001b[1m#\u001b[0m\n",
      "\u001b[1m#\u001b[0m  \u001b[1m#\u001b[0m\u001b[95mo\u001b[0m \u001b[1m#\u001b[0m\n",
      "\u001b[1m#\u001b[0m  \u001b[1m#\u001b[0m\u001b[1m#\u001b[0m\u001b[1m#\u001b[0m\u001b[1m#\u001b[0m\n",
      "\u001b[1m#\u001b[0m\u001b[1m#\u001b[0m\u001b[1m#\u001b[0m\u001b[1m#\u001b[0m\u001b[1m#\u001b[0m\u001b[1m#\u001b[0m\u001b[1m#\u001b[0m\n",
      "\n",
      "\u001b[1m#\u001b[0m\u001b[1m#\u001b[0m\u001b[1m#\u001b[0m\u001b[1m#\u001b[0m\u001b[1m#\u001b[0m\u001b[1m#\u001b[0m\u001b[1m#\u001b[0m\n",
      "\u001b[1m#\u001b[0m\u001b[1m#\u001b[0m    \u001b[1m#\u001b[0m\n",
      "\u001b[1m#\u001b[0m\u001b[1m#\u001b[0m\u001b[91m*\u001b[0m \u001b[95mo\u001b[0m \u001b[1m#\u001b[0m\n",
      "\u001b[1m#\u001b[0m  \u001b[36mA\u001b[0m\u001b[91m*\u001b[0m \u001b[1m#\u001b[0m\n",
      "\u001b[1m#\u001b[0m  \u001b[1m#\u001b[0m\u001b[95mo\u001b[0m \u001b[1m#\u001b[0m\n",
      "\u001b[1m#\u001b[0m  \u001b[1m#\u001b[0m\u001b[1m#\u001b[0m\u001b[1m#\u001b[0m\u001b[1m#\u001b[0m\n",
      "\u001b[1m#\u001b[0m\u001b[1m#\u001b[0m\u001b[1m#\u001b[0m\u001b[1m#\u001b[0m\u001b[1m#\u001b[0m\u001b[1m#\u001b[0m\u001b[1m#\u001b[0m\n",
      "\n",
      "\u001b[1m#\u001b[0m\u001b[1m#\u001b[0m\u001b[1m#\u001b[0m\u001b[1m#\u001b[0m\u001b[1m#\u001b[0m\u001b[1m#\u001b[0m\u001b[1m#\u001b[0m\n",
      "\u001b[1m#\u001b[0m\u001b[1m#\u001b[0m    \u001b[1m#\u001b[0m\n",
      "\u001b[1m#\u001b[0m\u001b[1m#\u001b[0m\u001b[91m*\u001b[0m\u001b[36mA\u001b[0m\u001b[95mo\u001b[0m \u001b[1m#\u001b[0m\n",
      "\u001b[1m#\u001b[0m   \u001b[91m*\u001b[0m \u001b[1m#\u001b[0m\n",
      "\u001b[1m#\u001b[0m  \u001b[1m#\u001b[0m\u001b[95mo\u001b[0m \u001b[1m#\u001b[0m\n",
      "\u001b[1m#\u001b[0m  \u001b[1m#\u001b[0m\u001b[1m#\u001b[0m\u001b[1m#\u001b[0m\u001b[1m#\u001b[0m\n",
      "\u001b[1m#\u001b[0m\u001b[1m#\u001b[0m\u001b[1m#\u001b[0m\u001b[1m#\u001b[0m\u001b[1m#\u001b[0m\u001b[1m#\u001b[0m\u001b[1m#\u001b[0m\n",
      "\n",
      "\u001b[1m#\u001b[0m\u001b[1m#\u001b[0m\u001b[1m#\u001b[0m\u001b[1m#\u001b[0m\u001b[1m#\u001b[0m\u001b[1m#\u001b[0m\u001b[1m#\u001b[0m\n",
      "\u001b[1m#\u001b[0m\u001b[1m#\u001b[0m    \u001b[1m#\u001b[0m\n",
      "\u001b[1m#\u001b[0m\u001b[1m#\u001b[0m\u001b[91m*\u001b[0m \u001b[96mB\u001b[0m \u001b[1m#\u001b[0m\n",
      "\u001b[1m#\u001b[0m   \u001b[91m*\u001b[0m \u001b[1m#\u001b[0m\n",
      "\u001b[1m#\u001b[0m  \u001b[1m#\u001b[0m\u001b[95mo\u001b[0m \u001b[1m#\u001b[0m\n",
      "\u001b[1m#\u001b[0m  \u001b[1m#\u001b[0m\u001b[1m#\u001b[0m\u001b[1m#\u001b[0m\u001b[1m#\u001b[0m\n",
      "\u001b[1m#\u001b[0m\u001b[1m#\u001b[0m\u001b[1m#\u001b[0m\u001b[1m#\u001b[0m\u001b[1m#\u001b[0m\u001b[1m#\u001b[0m\u001b[1m#\u001b[0m\n",
      "\n",
      "\u001b[1m#\u001b[0m\u001b[1m#\u001b[0m\u001b[1m#\u001b[0m\u001b[1m#\u001b[0m\u001b[1m#\u001b[0m\u001b[1m#\u001b[0m\u001b[1m#\u001b[0m\n",
      "\u001b[1m#\u001b[0m\u001b[1m#\u001b[0m    \u001b[1m#\u001b[0m\n",
      "\u001b[1m#\u001b[0m\u001b[1m#\u001b[0m\u001b[91m*\u001b[0m \u001b[95mo\u001b[0m\u001b[36mA\u001b[0m\u001b[1m#\u001b[0m\n",
      "\u001b[1m#\u001b[0m   \u001b[91m*\u001b[0m \u001b[1m#\u001b[0m\n",
      "\u001b[1m#\u001b[0m  \u001b[1m#\u001b[0m\u001b[95mo\u001b[0m \u001b[1m#\u001b[0m\n",
      "\u001b[1m#\u001b[0m  \u001b[1m#\u001b[0m\u001b[1m#\u001b[0m\u001b[1m#\u001b[0m\u001b[1m#\u001b[0m\n",
      "\u001b[1m#\u001b[0m\u001b[1m#\u001b[0m\u001b[1m#\u001b[0m\u001b[1m#\u001b[0m\u001b[1m#\u001b[0m\u001b[1m#\u001b[0m\u001b[1m#\u001b[0m\n",
      "\n",
      "\u001b[1m#\u001b[0m\u001b[1m#\u001b[0m\u001b[1m#\u001b[0m\u001b[1m#\u001b[0m\u001b[1m#\u001b[0m\u001b[1m#\u001b[0m\u001b[1m#\u001b[0m\n",
      "\u001b[1m#\u001b[0m\u001b[1m#\u001b[0m    \u001b[1m#\u001b[0m\n",
      "\u001b[1m#\u001b[0m\u001b[1m#\u001b[0m\u001b[91m*\u001b[0m \u001b[95mo\u001b[0m \u001b[1m#\u001b[0m\n",
      "\u001b[1m#\u001b[0m   \u001b[91m*\u001b[0m\u001b[36mA\u001b[0m\u001b[1m#\u001b[0m\n",
      "\u001b[1m#\u001b[0m  \u001b[1m#\u001b[0m\u001b[95mo\u001b[0m \u001b[1m#\u001b[0m\n",
      "\u001b[1m#\u001b[0m  \u001b[1m#\u001b[0m\u001b[1m#\u001b[0m\u001b[1m#\u001b[0m\u001b[1m#\u001b[0m\n",
      "\u001b[1m#\u001b[0m\u001b[1m#\u001b[0m\u001b[1m#\u001b[0m\u001b[1m#\u001b[0m\u001b[1m#\u001b[0m\u001b[1m#\u001b[0m\u001b[1m#\u001b[0m\n",
      "\n",
      "\u001b[1m#\u001b[0m\u001b[1m#\u001b[0m\u001b[1m#\u001b[0m\u001b[1m#\u001b[0m\u001b[1m#\u001b[0m\u001b[1m#\u001b[0m\u001b[1m#\u001b[0m\n",
      "\u001b[1m#\u001b[0m\u001b[1m#\u001b[0m    \u001b[1m#\u001b[0m\n",
      "\u001b[1m#\u001b[0m\u001b[1m#\u001b[0m\u001b[91m*\u001b[0m \u001b[95mo\u001b[0m \u001b[1m#\u001b[0m\n",
      "\u001b[1m#\u001b[0m   \u001b[91m*\u001b[0m \u001b[1m#\u001b[0m\n",
      "\u001b[1m#\u001b[0m  \u001b[1m#\u001b[0m\u001b[95mo\u001b[0m\u001b[36mA\u001b[0m\u001b[1m#\u001b[0m\n",
      "\u001b[1m#\u001b[0m  \u001b[1m#\u001b[0m\u001b[1m#\u001b[0m\u001b[1m#\u001b[0m\u001b[1m#\u001b[0m\n",
      "\u001b[1m#\u001b[0m\u001b[1m#\u001b[0m\u001b[1m#\u001b[0m\u001b[1m#\u001b[0m\u001b[1m#\u001b[0m\u001b[1m#\u001b[0m\u001b[1m#\u001b[0m\n",
      "\n",
      "\u001b[1m#\u001b[0m\u001b[1m#\u001b[0m\u001b[1m#\u001b[0m\u001b[1m#\u001b[0m\u001b[1m#\u001b[0m\u001b[1m#\u001b[0m\u001b[1m#\u001b[0m\n",
      "\u001b[1m#\u001b[0m\u001b[1m#\u001b[0m    \u001b[1m#\u001b[0m\n",
      "\u001b[1m#\u001b[0m\u001b[1m#\u001b[0m\u001b[91m*\u001b[0m \u001b[95mo\u001b[0m \u001b[1m#\u001b[0m\n",
      "\u001b[1m#\u001b[0m   \u001b[91m*\u001b[0m \u001b[1m#\u001b[0m\n",
      "\u001b[1m#\u001b[0m  \u001b[1m#\u001b[0m\u001b[96mB\u001b[0m \u001b[1m#\u001b[0m\n",
      "\u001b[1m#\u001b[0m  \u001b[1m#\u001b[0m\u001b[1m#\u001b[0m\u001b[1m#\u001b[0m\u001b[1m#\u001b[0m\n",
      "\u001b[1m#\u001b[0m\u001b[1m#\u001b[0m\u001b[1m#\u001b[0m\u001b[1m#\u001b[0m\u001b[1m#\u001b[0m\u001b[1m#\u001b[0m\u001b[1m#\u001b[0m\n",
      "\n",
      "\u001b[1m#\u001b[0m\u001b[1m#\u001b[0m\u001b[1m#\u001b[0m\u001b[1m#\u001b[0m\u001b[1m#\u001b[0m\u001b[1m#\u001b[0m\u001b[1m#\u001b[0m\n",
      "\u001b[1m#\u001b[0m\u001b[1m#\u001b[0m    \u001b[1m#\u001b[0m\n",
      "\u001b[1m#\u001b[0m\u001b[1m#\u001b[0m\u001b[91m*\u001b[0m \u001b[94m@\u001b[0m \u001b[1m#\u001b[0m\n",
      "\u001b[1m#\u001b[0m   \u001b[36mA\u001b[0m \u001b[1m#\u001b[0m\n",
      "\u001b[1m#\u001b[0m  \u001b[1m#\u001b[0m\u001b[95mo\u001b[0m \u001b[1m#\u001b[0m\n",
      "\u001b[1m#\u001b[0m  \u001b[1m#\u001b[0m\u001b[1m#\u001b[0m\u001b[1m#\u001b[0m\u001b[1m#\u001b[0m\n",
      "\u001b[1m#\u001b[0m\u001b[1m#\u001b[0m\u001b[1m#\u001b[0m\u001b[1m#\u001b[0m\u001b[1m#\u001b[0m\u001b[1m#\u001b[0m\u001b[1m#\u001b[0m\n",
      "\n",
      "\u001b[1m#\u001b[0m\u001b[1m#\u001b[0m\u001b[1m#\u001b[0m\u001b[1m#\u001b[0m\u001b[1m#\u001b[0m\u001b[1m#\u001b[0m\u001b[1m#\u001b[0m\n",
      "\u001b[1m#\u001b[0m\u001b[1m#\u001b[0m    \u001b[1m#\u001b[0m\n",
      "\u001b[1m#\u001b[0m\u001b[1m#\u001b[0m\u001b[91m*\u001b[0m \u001b[94m@\u001b[0m \u001b[1m#\u001b[0m\n",
      "\u001b[1m#\u001b[0m  \u001b[36mA\u001b[0m  \u001b[1m#\u001b[0m\n",
      "\u001b[1m#\u001b[0m  \u001b[1m#\u001b[0m\u001b[95mo\u001b[0m \u001b[1m#\u001b[0m\n",
      "\u001b[1m#\u001b[0m  \u001b[1m#\u001b[0m\u001b[1m#\u001b[0m\u001b[1m#\u001b[0m\u001b[1m#\u001b[0m\n",
      "\u001b[1m#\u001b[0m\u001b[1m#\u001b[0m\u001b[1m#\u001b[0m\u001b[1m#\u001b[0m\u001b[1m#\u001b[0m\u001b[1m#\u001b[0m\u001b[1m#\u001b[0m\n",
      "\n",
      "\u001b[1m#\u001b[0m\u001b[1m#\u001b[0m\u001b[1m#\u001b[0m\u001b[1m#\u001b[0m\u001b[1m#\u001b[0m\u001b[1m#\u001b[0m\u001b[1m#\u001b[0m\n",
      "\u001b[1m#\u001b[0m\u001b[1m#\u001b[0m    \u001b[1m#\u001b[0m\n",
      "\u001b[1m#\u001b[0m\u001b[1m#\u001b[0m\u001b[91m*\u001b[0m\u001b[36mA\u001b[0m\u001b[94m@\u001b[0m \u001b[1m#\u001b[0m\n",
      "\u001b[1m#\u001b[0m     \u001b[1m#\u001b[0m\n",
      "\u001b[1m#\u001b[0m  \u001b[1m#\u001b[0m\u001b[95mo\u001b[0m \u001b[1m#\u001b[0m\n",
      "\u001b[1m#\u001b[0m  \u001b[1m#\u001b[0m\u001b[1m#\u001b[0m\u001b[1m#\u001b[0m\u001b[1m#\u001b[0m\n",
      "\u001b[1m#\u001b[0m\u001b[1m#\u001b[0m\u001b[1m#\u001b[0m\u001b[1m#\u001b[0m\u001b[1m#\u001b[0m\u001b[1m#\u001b[0m\u001b[1m#\u001b[0m\n",
      "\n",
      "\u001b[1m#\u001b[0m\u001b[1m#\u001b[0m\u001b[1m#\u001b[0m\u001b[1m#\u001b[0m\u001b[1m#\u001b[0m\u001b[1m#\u001b[0m\u001b[1m#\u001b[0m\n",
      "\u001b[1m#\u001b[0m\u001b[1m#\u001b[0m \u001b[36mA\u001b[0m  \u001b[1m#\u001b[0m\n",
      "\u001b[1m#\u001b[0m\u001b[1m#\u001b[0m\u001b[91m*\u001b[0m \u001b[94m@\u001b[0m \u001b[1m#\u001b[0m\n",
      "\u001b[1m#\u001b[0m     \u001b[1m#\u001b[0m\n",
      "\u001b[1m#\u001b[0m  \u001b[1m#\u001b[0m\u001b[95mo\u001b[0m \u001b[1m#\u001b[0m\n",
      "\u001b[1m#\u001b[0m  \u001b[1m#\u001b[0m\u001b[1m#\u001b[0m\u001b[1m#\u001b[0m\u001b[1m#\u001b[0m\n",
      "\u001b[1m#\u001b[0m\u001b[1m#\u001b[0m\u001b[1m#\u001b[0m\u001b[1m#\u001b[0m\u001b[1m#\u001b[0m\u001b[1m#\u001b[0m\u001b[1m#\u001b[0m\n",
      "\n",
      "\u001b[1m#\u001b[0m\u001b[1m#\u001b[0m\u001b[1m#\u001b[0m\u001b[1m#\u001b[0m\u001b[1m#\u001b[0m\u001b[1m#\u001b[0m\u001b[1m#\u001b[0m\n",
      "\u001b[1m#\u001b[0m\u001b[1m#\u001b[0m\u001b[36mA\u001b[0m   \u001b[1m#\u001b[0m\n",
      "\u001b[1m#\u001b[0m\u001b[1m#\u001b[0m\u001b[91m*\u001b[0m \u001b[94m@\u001b[0m \u001b[1m#\u001b[0m\n",
      "\u001b[1m#\u001b[0m     \u001b[1m#\u001b[0m\n",
      "\u001b[1m#\u001b[0m  \u001b[1m#\u001b[0m\u001b[95mo\u001b[0m \u001b[1m#\u001b[0m\n",
      "\u001b[1m#\u001b[0m  \u001b[1m#\u001b[0m\u001b[1m#\u001b[0m\u001b[1m#\u001b[0m\u001b[1m#\u001b[0m\n",
      "\u001b[1m#\u001b[0m\u001b[1m#\u001b[0m\u001b[1m#\u001b[0m\u001b[1m#\u001b[0m\u001b[1m#\u001b[0m\u001b[1m#\u001b[0m\u001b[1m#\u001b[0m\n",
      "\n",
      "\u001b[1m#\u001b[0m\u001b[1m#\u001b[0m\u001b[1m#\u001b[0m\u001b[1m#\u001b[0m\u001b[1m#\u001b[0m\u001b[1m#\u001b[0m\u001b[1m#\u001b[0m\n",
      "\u001b[1m#\u001b[0m\u001b[1m#\u001b[0m    \u001b[1m#\u001b[0m\n",
      "\u001b[1m#\u001b[0m\u001b[1m#\u001b[0m\u001b[36mA\u001b[0m \u001b[94m@\u001b[0m \u001b[1m#\u001b[0m\n",
      "\u001b[1m#\u001b[0m \u001b[91m*\u001b[0m   \u001b[1m#\u001b[0m\n",
      "\u001b[1m#\u001b[0m  \u001b[1m#\u001b[0m\u001b[95mo\u001b[0m \u001b[1m#\u001b[0m\n",
      "\u001b[1m#\u001b[0m  \u001b[1m#\u001b[0m\u001b[1m#\u001b[0m\u001b[1m#\u001b[0m\u001b[1m#\u001b[0m\n",
      "\u001b[1m#\u001b[0m\u001b[1m#\u001b[0m\u001b[1m#\u001b[0m\u001b[1m#\u001b[0m\u001b[1m#\u001b[0m\u001b[1m#\u001b[0m\u001b[1m#\u001b[0m\n",
      "\n",
      "\u001b[1m#\u001b[0m\u001b[1m#\u001b[0m\u001b[1m#\u001b[0m\u001b[1m#\u001b[0m\u001b[1m#\u001b[0m\u001b[1m#\u001b[0m\u001b[1m#\u001b[0m\n",
      "\u001b[1m#\u001b[0m\u001b[1m#\u001b[0m    \u001b[1m#\u001b[0m\n",
      "\u001b[1m#\u001b[0m\u001b[1m#\u001b[0m  \u001b[94m@\u001b[0m \u001b[1m#\u001b[0m\n",
      "\u001b[1m#\u001b[0m \u001b[36mA\u001b[0m   \u001b[1m#\u001b[0m\n",
      "\u001b[1m#\u001b[0m \u001b[91m*\u001b[0m\u001b[1m#\u001b[0m\u001b[95mo\u001b[0m \u001b[1m#\u001b[0m\n",
      "\u001b[1m#\u001b[0m  \u001b[1m#\u001b[0m\u001b[1m#\u001b[0m\u001b[1m#\u001b[0m\u001b[1m#\u001b[0m\n",
      "\u001b[1m#\u001b[0m\u001b[1m#\u001b[0m\u001b[1m#\u001b[0m\u001b[1m#\u001b[0m\u001b[1m#\u001b[0m\u001b[1m#\u001b[0m\u001b[1m#\u001b[0m\n",
      "\n",
      "\u001b[1m#\u001b[0m\u001b[1m#\u001b[0m\u001b[1m#\u001b[0m\u001b[1m#\u001b[0m\u001b[1m#\u001b[0m\u001b[1m#\u001b[0m\u001b[1m#\u001b[0m\n",
      "\u001b[1m#\u001b[0m\u001b[1m#\u001b[0m    \u001b[1m#\u001b[0m\n",
      "\u001b[1m#\u001b[0m\u001b[1m#\u001b[0m  \u001b[94m@\u001b[0m \u001b[1m#\u001b[0m\n",
      "\u001b[1m#\u001b[0m\u001b[36mA\u001b[0m    \u001b[1m#\u001b[0m\n",
      "\u001b[1m#\u001b[0m \u001b[91m*\u001b[0m\u001b[1m#\u001b[0m\u001b[95mo\u001b[0m \u001b[1m#\u001b[0m\n",
      "\u001b[1m#\u001b[0m  \u001b[1m#\u001b[0m\u001b[1m#\u001b[0m\u001b[1m#\u001b[0m\u001b[1m#\u001b[0m\n",
      "\u001b[1m#\u001b[0m\u001b[1m#\u001b[0m\u001b[1m#\u001b[0m\u001b[1m#\u001b[0m\u001b[1m#\u001b[0m\u001b[1m#\u001b[0m\u001b[1m#\u001b[0m\n",
      "\n",
      "\u001b[1m#\u001b[0m\u001b[1m#\u001b[0m\u001b[1m#\u001b[0m\u001b[1m#\u001b[0m\u001b[1m#\u001b[0m\u001b[1m#\u001b[0m\u001b[1m#\u001b[0m\n",
      "\u001b[1m#\u001b[0m\u001b[1m#\u001b[0m    \u001b[1m#\u001b[0m\n",
      "\u001b[1m#\u001b[0m\u001b[1m#\u001b[0m  \u001b[94m@\u001b[0m \u001b[1m#\u001b[0m\n",
      "\u001b[1m#\u001b[0m     \u001b[1m#\u001b[0m\n",
      "\u001b[1m#\u001b[0m\u001b[36mA\u001b[0m\u001b[91m*\u001b[0m\u001b[1m#\u001b[0m\u001b[95mo\u001b[0m \u001b[1m#\u001b[0m\n",
      "\u001b[1m#\u001b[0m  \u001b[1m#\u001b[0m\u001b[1m#\u001b[0m\u001b[1m#\u001b[0m\u001b[1m#\u001b[0m\n",
      "\u001b[1m#\u001b[0m\u001b[1m#\u001b[0m\u001b[1m#\u001b[0m\u001b[1m#\u001b[0m\u001b[1m#\u001b[0m\u001b[1m#\u001b[0m\u001b[1m#\u001b[0m\n",
      "\n",
      "\u001b[1m#\u001b[0m\u001b[1m#\u001b[0m\u001b[1m#\u001b[0m\u001b[1m#\u001b[0m\u001b[1m#\u001b[0m\u001b[1m#\u001b[0m\u001b[1m#\u001b[0m\n",
      "\u001b[1m#\u001b[0m\u001b[1m#\u001b[0m    \u001b[1m#\u001b[0m\n",
      "\u001b[1m#\u001b[0m\u001b[1m#\u001b[0m  \u001b[94m@\u001b[0m \u001b[1m#\u001b[0m\n",
      "\u001b[1m#\u001b[0m     \u001b[1m#\u001b[0m\n",
      "\u001b[1m#\u001b[0m \u001b[91m*\u001b[0m\u001b[1m#\u001b[0m\u001b[95mo\u001b[0m \u001b[1m#\u001b[0m\n",
      "\u001b[1m#\u001b[0m\u001b[36mA\u001b[0m \u001b[1m#\u001b[0m\u001b[1m#\u001b[0m\u001b[1m#\u001b[0m\u001b[1m#\u001b[0m\n",
      "\u001b[1m#\u001b[0m\u001b[1m#\u001b[0m\u001b[1m#\u001b[0m\u001b[1m#\u001b[0m\u001b[1m#\u001b[0m\u001b[1m#\u001b[0m\u001b[1m#\u001b[0m\n",
      "\n",
      "\u001b[1m#\u001b[0m\u001b[1m#\u001b[0m\u001b[1m#\u001b[0m\u001b[1m#\u001b[0m\u001b[1m#\u001b[0m\u001b[1m#\u001b[0m\u001b[1m#\u001b[0m\n",
      "\u001b[1m#\u001b[0m\u001b[1m#\u001b[0m    \u001b[1m#\u001b[0m\n",
      "\u001b[1m#\u001b[0m\u001b[1m#\u001b[0m  \u001b[94m@\u001b[0m \u001b[1m#\u001b[0m\n",
      "\u001b[1m#\u001b[0m     \u001b[1m#\u001b[0m\n",
      "\u001b[1m#\u001b[0m \u001b[91m*\u001b[0m\u001b[1m#\u001b[0m\u001b[95mo\u001b[0m \u001b[1m#\u001b[0m\n",
      "\u001b[1m#\u001b[0m \u001b[36mA\u001b[0m\u001b[1m#\u001b[0m\u001b[1m#\u001b[0m\u001b[1m#\u001b[0m\u001b[1m#\u001b[0m\n",
      "\u001b[1m#\u001b[0m\u001b[1m#\u001b[0m\u001b[1m#\u001b[0m\u001b[1m#\u001b[0m\u001b[1m#\u001b[0m\u001b[1m#\u001b[0m\u001b[1m#\u001b[0m\n",
      "\n",
      "\u001b[1m#\u001b[0m\u001b[1m#\u001b[0m\u001b[1m#\u001b[0m\u001b[1m#\u001b[0m\u001b[1m#\u001b[0m\u001b[1m#\u001b[0m\u001b[1m#\u001b[0m\n",
      "\u001b[1m#\u001b[0m\u001b[1m#\u001b[0m    \u001b[1m#\u001b[0m\n",
      "\u001b[1m#\u001b[0m\u001b[1m#\u001b[0m  \u001b[94m@\u001b[0m \u001b[1m#\u001b[0m\n",
      "\u001b[1m#\u001b[0m \u001b[91m*\u001b[0m   \u001b[1m#\u001b[0m\n",
      "\u001b[1m#\u001b[0m \u001b[36mA\u001b[0m\u001b[1m#\u001b[0m\u001b[95mo\u001b[0m \u001b[1m#\u001b[0m\n",
      "\u001b[1m#\u001b[0m  \u001b[1m#\u001b[0m\u001b[1m#\u001b[0m\u001b[1m#\u001b[0m\u001b[1m#\u001b[0m\n",
      "\u001b[1m#\u001b[0m\u001b[1m#\u001b[0m\u001b[1m#\u001b[0m\u001b[1m#\u001b[0m\u001b[1m#\u001b[0m\u001b[1m#\u001b[0m\u001b[1m#\u001b[0m\n",
      "\n",
      "\u001b[1m#\u001b[0m\u001b[1m#\u001b[0m\u001b[1m#\u001b[0m\u001b[1m#\u001b[0m\u001b[1m#\u001b[0m\u001b[1m#\u001b[0m\u001b[1m#\u001b[0m\n",
      "\u001b[1m#\u001b[0m\u001b[1m#\u001b[0m    \u001b[1m#\u001b[0m\n",
      "\u001b[1m#\u001b[0m\u001b[1m#\u001b[0m  \u001b[94m@\u001b[0m \u001b[1m#\u001b[0m\n",
      "\u001b[1m#\u001b[0m \u001b[91m*\u001b[0m   \u001b[1m#\u001b[0m\n",
      "\u001b[1m#\u001b[0m\u001b[36mA\u001b[0m \u001b[1m#\u001b[0m\u001b[95mo\u001b[0m \u001b[1m#\u001b[0m\n",
      "\u001b[1m#\u001b[0m  \u001b[1m#\u001b[0m\u001b[1m#\u001b[0m\u001b[1m#\u001b[0m\u001b[1m#\u001b[0m\n",
      "\u001b[1m#\u001b[0m\u001b[1m#\u001b[0m\u001b[1m#\u001b[0m\u001b[1m#\u001b[0m\u001b[1m#\u001b[0m\u001b[1m#\u001b[0m\u001b[1m#\u001b[0m\n",
      "\n",
      "\u001b[1m#\u001b[0m\u001b[1m#\u001b[0m\u001b[1m#\u001b[0m\u001b[1m#\u001b[0m\u001b[1m#\u001b[0m\u001b[1m#\u001b[0m\u001b[1m#\u001b[0m\n",
      "\u001b[1m#\u001b[0m\u001b[1m#\u001b[0m    \u001b[1m#\u001b[0m\n",
      "\u001b[1m#\u001b[0m\u001b[1m#\u001b[0m  \u001b[94m@\u001b[0m \u001b[1m#\u001b[0m\n",
      "\u001b[1m#\u001b[0m\u001b[36mA\u001b[0m\u001b[91m*\u001b[0m   \u001b[1m#\u001b[0m\n",
      "\u001b[1m#\u001b[0m  \u001b[1m#\u001b[0m\u001b[95mo\u001b[0m \u001b[1m#\u001b[0m\n",
      "\u001b[1m#\u001b[0m  \u001b[1m#\u001b[0m\u001b[1m#\u001b[0m\u001b[1m#\u001b[0m\u001b[1m#\u001b[0m\n",
      "\u001b[1m#\u001b[0m\u001b[1m#\u001b[0m\u001b[1m#\u001b[0m\u001b[1m#\u001b[0m\u001b[1m#\u001b[0m\u001b[1m#\u001b[0m\u001b[1m#\u001b[0m\n",
      "\n",
      "\u001b[1m#\u001b[0m\u001b[1m#\u001b[0m\u001b[1m#\u001b[0m\u001b[1m#\u001b[0m\u001b[1m#\u001b[0m\u001b[1m#\u001b[0m\u001b[1m#\u001b[0m\n",
      "\u001b[1m#\u001b[0m\u001b[1m#\u001b[0m    \u001b[1m#\u001b[0m\n",
      "\u001b[1m#\u001b[0m\u001b[1m#\u001b[0m  \u001b[94m@\u001b[0m \u001b[1m#\u001b[0m\n",
      "\u001b[1m#\u001b[0m \u001b[36mA\u001b[0m\u001b[91m*\u001b[0m  \u001b[1m#\u001b[0m\n",
      "\u001b[1m#\u001b[0m  \u001b[1m#\u001b[0m\u001b[95mo\u001b[0m \u001b[1m#\u001b[0m\n",
      "\u001b[1m#\u001b[0m  \u001b[1m#\u001b[0m\u001b[1m#\u001b[0m\u001b[1m#\u001b[0m\u001b[1m#\u001b[0m\n",
      "\u001b[1m#\u001b[0m\u001b[1m#\u001b[0m\u001b[1m#\u001b[0m\u001b[1m#\u001b[0m\u001b[1m#\u001b[0m\u001b[1m#\u001b[0m\u001b[1m#\u001b[0m\n",
      "\n",
      "\u001b[1m#\u001b[0m\u001b[1m#\u001b[0m\u001b[1m#\u001b[0m\u001b[1m#\u001b[0m\u001b[1m#\u001b[0m\u001b[1m#\u001b[0m\u001b[1m#\u001b[0m\n",
      "\u001b[1m#\u001b[0m\u001b[1m#\u001b[0m    \u001b[1m#\u001b[0m\n",
      "\u001b[1m#\u001b[0m\u001b[1m#\u001b[0m  \u001b[94m@\u001b[0m \u001b[1m#\u001b[0m\n",
      "\u001b[1m#\u001b[0m  \u001b[36mA\u001b[0m\u001b[91m*\u001b[0m \u001b[1m#\u001b[0m\n",
      "\u001b[1m#\u001b[0m  \u001b[1m#\u001b[0m\u001b[95mo\u001b[0m \u001b[1m#\u001b[0m\n",
      "\u001b[1m#\u001b[0m  \u001b[1m#\u001b[0m\u001b[1m#\u001b[0m\u001b[1m#\u001b[0m\u001b[1m#\u001b[0m\n",
      "\u001b[1m#\u001b[0m\u001b[1m#\u001b[0m\u001b[1m#\u001b[0m\u001b[1m#\u001b[0m\u001b[1m#\u001b[0m\u001b[1m#\u001b[0m\u001b[1m#\u001b[0m\n",
      "\n",
      "\u001b[1m#\u001b[0m\u001b[1m#\u001b[0m\u001b[1m#\u001b[0m\u001b[1m#\u001b[0m\u001b[1m#\u001b[0m\u001b[1m#\u001b[0m\u001b[1m#\u001b[0m\n",
      "\u001b[1m#\u001b[0m\u001b[1m#\u001b[0m    \u001b[1m#\u001b[0m\n",
      "\u001b[1m#\u001b[0m\u001b[1m#\u001b[0m \u001b[36mA\u001b[0m\u001b[94m@\u001b[0m \u001b[1m#\u001b[0m\n",
      "\u001b[1m#\u001b[0m   \u001b[91m*\u001b[0m \u001b[1m#\u001b[0m\n",
      "\u001b[1m#\u001b[0m  \u001b[1m#\u001b[0m\u001b[95mo\u001b[0m \u001b[1m#\u001b[0m\n",
      "\u001b[1m#\u001b[0m  \u001b[1m#\u001b[0m\u001b[1m#\u001b[0m\u001b[1m#\u001b[0m\u001b[1m#\u001b[0m\n",
      "\u001b[1m#\u001b[0m\u001b[1m#\u001b[0m\u001b[1m#\u001b[0m\u001b[1m#\u001b[0m\u001b[1m#\u001b[0m\u001b[1m#\u001b[0m\u001b[1m#\u001b[0m\n",
      "\n",
      "\u001b[1m#\u001b[0m\u001b[1m#\u001b[0m\u001b[1m#\u001b[0m\u001b[1m#\u001b[0m\u001b[1m#\u001b[0m\u001b[1m#\u001b[0m\u001b[1m#\u001b[0m\n",
      "\u001b[1m#\u001b[0m\u001b[1m#\u001b[0m \u001b[36mA\u001b[0m  \u001b[1m#\u001b[0m\n",
      "\u001b[1m#\u001b[0m\u001b[1m#\u001b[0m  \u001b[94m@\u001b[0m \u001b[1m#\u001b[0m\n",
      "\u001b[1m#\u001b[0m   \u001b[91m*\u001b[0m \u001b[1m#\u001b[0m\n",
      "\u001b[1m#\u001b[0m  \u001b[1m#\u001b[0m\u001b[95mo\u001b[0m \u001b[1m#\u001b[0m\n",
      "\u001b[1m#\u001b[0m  \u001b[1m#\u001b[0m\u001b[1m#\u001b[0m\u001b[1m#\u001b[0m\u001b[1m#\u001b[0m\n",
      "\u001b[1m#\u001b[0m\u001b[1m#\u001b[0m\u001b[1m#\u001b[0m\u001b[1m#\u001b[0m\u001b[1m#\u001b[0m\u001b[1m#\u001b[0m\u001b[1m#\u001b[0m\n",
      "\n",
      "\u001b[1m#\u001b[0m\u001b[1m#\u001b[0m\u001b[1m#\u001b[0m\u001b[1m#\u001b[0m\u001b[1m#\u001b[0m\u001b[1m#\u001b[0m\u001b[1m#\u001b[0m\n",
      "\u001b[1m#\u001b[0m\u001b[1m#\u001b[0m  \u001b[36mA\u001b[0m \u001b[1m#\u001b[0m\n",
      "\u001b[1m#\u001b[0m\u001b[1m#\u001b[0m  \u001b[94m@\u001b[0m \u001b[1m#\u001b[0m\n",
      "\u001b[1m#\u001b[0m   \u001b[91m*\u001b[0m \u001b[1m#\u001b[0m\n",
      "\u001b[1m#\u001b[0m  \u001b[1m#\u001b[0m\u001b[95mo\u001b[0m \u001b[1m#\u001b[0m\n",
      "\u001b[1m#\u001b[0m  \u001b[1m#\u001b[0m\u001b[1m#\u001b[0m\u001b[1m#\u001b[0m\u001b[1m#\u001b[0m\n",
      "\u001b[1m#\u001b[0m\u001b[1m#\u001b[0m\u001b[1m#\u001b[0m\u001b[1m#\u001b[0m\u001b[1m#\u001b[0m\u001b[1m#\u001b[0m\u001b[1m#\u001b[0m\n",
      "\n",
      "\u001b[1m#\u001b[0m\u001b[1m#\u001b[0m\u001b[1m#\u001b[0m\u001b[1m#\u001b[0m\u001b[1m#\u001b[0m\u001b[1m#\u001b[0m\u001b[1m#\u001b[0m\n",
      "\u001b[1m#\u001b[0m\u001b[1m#\u001b[0m   \u001b[36mA\u001b[0m\u001b[1m#\u001b[0m\n",
      "\u001b[1m#\u001b[0m\u001b[1m#\u001b[0m  \u001b[94m@\u001b[0m \u001b[1m#\u001b[0m\n",
      "\u001b[1m#\u001b[0m   \u001b[91m*\u001b[0m \u001b[1m#\u001b[0m\n",
      "\u001b[1m#\u001b[0m  \u001b[1m#\u001b[0m\u001b[95mo\u001b[0m \u001b[1m#\u001b[0m\n",
      "\u001b[1m#\u001b[0m  \u001b[1m#\u001b[0m\u001b[1m#\u001b[0m\u001b[1m#\u001b[0m\u001b[1m#\u001b[0m\n",
      "\u001b[1m#\u001b[0m\u001b[1m#\u001b[0m\u001b[1m#\u001b[0m\u001b[1m#\u001b[0m\u001b[1m#\u001b[0m\u001b[1m#\u001b[0m\u001b[1m#\u001b[0m\n",
      "\n",
      "\u001b[1m#\u001b[0m\u001b[1m#\u001b[0m\u001b[1m#\u001b[0m\u001b[1m#\u001b[0m\u001b[1m#\u001b[0m\u001b[1m#\u001b[0m\u001b[1m#\u001b[0m\n",
      "\u001b[1m#\u001b[0m\u001b[1m#\u001b[0m    \u001b[1m#\u001b[0m\n",
      "\u001b[1m#\u001b[0m\u001b[1m#\u001b[0m  \u001b[94m@\u001b[0m\u001b[36mA\u001b[0m\u001b[1m#\u001b[0m\n",
      "\u001b[1m#\u001b[0m   \u001b[91m*\u001b[0m \u001b[1m#\u001b[0m\n",
      "\u001b[1m#\u001b[0m  \u001b[1m#\u001b[0m\u001b[95mo\u001b[0m \u001b[1m#\u001b[0m\n",
      "\u001b[1m#\u001b[0m  \u001b[1m#\u001b[0m\u001b[1m#\u001b[0m\u001b[1m#\u001b[0m\u001b[1m#\u001b[0m\n",
      "\u001b[1m#\u001b[0m\u001b[1m#\u001b[0m\u001b[1m#\u001b[0m\u001b[1m#\u001b[0m\u001b[1m#\u001b[0m\u001b[1m#\u001b[0m\u001b[1m#\u001b[0m\n",
      "\n",
      "\u001b[1m#\u001b[0m\u001b[1m#\u001b[0m\u001b[1m#\u001b[0m\u001b[1m#\u001b[0m\u001b[1m#\u001b[0m\u001b[1m#\u001b[0m\u001b[1m#\u001b[0m\n",
      "\u001b[1m#\u001b[0m\u001b[1m#\u001b[0m    \u001b[1m#\u001b[0m\n",
      "\u001b[1m#\u001b[0m\u001b[1m#\u001b[0m \u001b[91m*\u001b[0m\u001b[36mA\u001b[0m \u001b[1m#\u001b[0m\n",
      "\u001b[1m#\u001b[0m   \u001b[91m*\u001b[0m \u001b[1m#\u001b[0m\n",
      "\u001b[1m#\u001b[0m  \u001b[1m#\u001b[0m\u001b[95mo\u001b[0m \u001b[1m#\u001b[0m\n",
      "\u001b[1m#\u001b[0m  \u001b[1m#\u001b[0m\u001b[1m#\u001b[0m\u001b[1m#\u001b[0m\u001b[1m#\u001b[0m\n",
      "\u001b[1m#\u001b[0m\u001b[1m#\u001b[0m\u001b[1m#\u001b[0m\u001b[1m#\u001b[0m\u001b[1m#\u001b[0m\u001b[1m#\u001b[0m\u001b[1m#\u001b[0m\n",
      "\n",
      "\u001b[1m#\u001b[0m\u001b[1m#\u001b[0m\u001b[1m#\u001b[0m\u001b[1m#\u001b[0m\u001b[1m#\u001b[0m\u001b[1m#\u001b[0m\u001b[1m#\u001b[0m\n",
      "\u001b[1m#\u001b[0m\u001b[1m#\u001b[0m    \u001b[1m#\u001b[0m\n",
      "\u001b[1m#\u001b[0m\u001b[1m#\u001b[0m \u001b[91m*\u001b[0m\u001b[95mo\u001b[0m \u001b[1m#\u001b[0m\n",
      "\u001b[1m#\u001b[0m   \u001b[36mA\u001b[0m \u001b[1m#\u001b[0m\n",
      "\u001b[1m#\u001b[0m  \u001b[1m#\u001b[0m\u001b[94m@\u001b[0m \u001b[1m#\u001b[0m\n",
      "\u001b[1m#\u001b[0m  \u001b[1m#\u001b[0m\u001b[1m#\u001b[0m\u001b[1m#\u001b[0m\u001b[1m#\u001b[0m\n",
      "\u001b[1m#\u001b[0m\u001b[1m#\u001b[0m\u001b[1m#\u001b[0m\u001b[1m#\u001b[0m\u001b[1m#\u001b[0m\u001b[1m#\u001b[0m\u001b[1m#\u001b[0m\n",
      "\n",
      "\u001b[1m#\u001b[0m\u001b[1m#\u001b[0m\u001b[1m#\u001b[0m\u001b[1m#\u001b[0m\u001b[1m#\u001b[0m\u001b[1m#\u001b[0m\u001b[1m#\u001b[0m\n",
      "\u001b[1m#\u001b[0m\u001b[1m#\u001b[0m    \u001b[1m#\u001b[0m\n",
      "\u001b[1m#\u001b[0m\u001b[1m#\u001b[0m \u001b[91m*\u001b[0m\u001b[95mo\u001b[0m \u001b[1m#\u001b[0m\n",
      "\u001b[1m#\u001b[0m  \u001b[36mA\u001b[0m  \u001b[1m#\u001b[0m\n",
      "\u001b[1m#\u001b[0m  \u001b[1m#\u001b[0m\u001b[94m@\u001b[0m \u001b[1m#\u001b[0m\n",
      "\u001b[1m#\u001b[0m  \u001b[1m#\u001b[0m\u001b[1m#\u001b[0m\u001b[1m#\u001b[0m\u001b[1m#\u001b[0m\n",
      "\u001b[1m#\u001b[0m\u001b[1m#\u001b[0m\u001b[1m#\u001b[0m\u001b[1m#\u001b[0m\u001b[1m#\u001b[0m\u001b[1m#\u001b[0m\u001b[1m#\u001b[0m\n",
      "\n",
      "\u001b[1m#\u001b[0m\u001b[1m#\u001b[0m\u001b[1m#\u001b[0m\u001b[1m#\u001b[0m\u001b[1m#\u001b[0m\u001b[1m#\u001b[0m\u001b[1m#\u001b[0m\n",
      "\u001b[1m#\u001b[0m\u001b[1m#\u001b[0m    \u001b[1m#\u001b[0m\n",
      "\u001b[1m#\u001b[0m\u001b[1m#\u001b[0m \u001b[91m*\u001b[0m\u001b[95mo\u001b[0m \u001b[1m#\u001b[0m\n",
      "\u001b[1m#\u001b[0m \u001b[36mA\u001b[0m   \u001b[1m#\u001b[0m\n",
      "\u001b[1m#\u001b[0m  \u001b[1m#\u001b[0m\u001b[94m@\u001b[0m \u001b[1m#\u001b[0m\n",
      "\u001b[1m#\u001b[0m  \u001b[1m#\u001b[0m\u001b[1m#\u001b[0m\u001b[1m#\u001b[0m\u001b[1m#\u001b[0m\n",
      "\u001b[1m#\u001b[0m\u001b[1m#\u001b[0m\u001b[1m#\u001b[0m\u001b[1m#\u001b[0m\u001b[1m#\u001b[0m\u001b[1m#\u001b[0m\u001b[1m#\u001b[0m\n",
      "\n",
      "\u001b[1m#\u001b[0m\u001b[1m#\u001b[0m\u001b[1m#\u001b[0m\u001b[1m#\u001b[0m\u001b[1m#\u001b[0m\u001b[1m#\u001b[0m\u001b[1m#\u001b[0m\n",
      "\u001b[1m#\u001b[0m\u001b[1m#\u001b[0m    \u001b[1m#\u001b[0m\n",
      "\u001b[1m#\u001b[0m\u001b[1m#\u001b[0m\u001b[36mA\u001b[0m\u001b[91m*\u001b[0m\u001b[95mo\u001b[0m \u001b[1m#\u001b[0m\n",
      "\u001b[1m#\u001b[0m     \u001b[1m#\u001b[0m\n",
      "\u001b[1m#\u001b[0m  \u001b[1m#\u001b[0m\u001b[94m@\u001b[0m \u001b[1m#\u001b[0m\n",
      "\u001b[1m#\u001b[0m  \u001b[1m#\u001b[0m\u001b[1m#\u001b[0m\u001b[1m#\u001b[0m\u001b[1m#\u001b[0m\n",
      "\u001b[1m#\u001b[0m\u001b[1m#\u001b[0m\u001b[1m#\u001b[0m\u001b[1m#\u001b[0m\u001b[1m#\u001b[0m\u001b[1m#\u001b[0m\u001b[1m#\u001b[0m\n",
      "\n",
      "\u001b[1m#\u001b[0m\u001b[1m#\u001b[0m\u001b[1m#\u001b[0m\u001b[1m#\u001b[0m\u001b[1m#\u001b[0m\u001b[1m#\u001b[0m\u001b[1m#\u001b[0m\n",
      "\u001b[1m#\u001b[0m\u001b[1m#\u001b[0m    \u001b[1m#\u001b[0m\n",
      "\u001b[1m#\u001b[0m\u001b[1m#\u001b[0m \u001b[36mA\u001b[0m\u001b[94m@\u001b[0m \u001b[1m#\u001b[0m\n",
      "\u001b[1m#\u001b[0m     \u001b[1m#\u001b[0m\n",
      "\u001b[1m#\u001b[0m  \u001b[1m#\u001b[0m\u001b[94m@\u001b[0m \u001b[1m#\u001b[0m\n",
      "\u001b[1m#\u001b[0m  \u001b[1m#\u001b[0m\u001b[1m#\u001b[0m\u001b[1m#\u001b[0m\u001b[1m#\u001b[0m\n",
      "\u001b[1m#\u001b[0m\u001b[1m#\u001b[0m\u001b[1m#\u001b[0m\u001b[1m#\u001b[0m\u001b[1m#\u001b[0m\u001b[1m#\u001b[0m\u001b[1m#\u001b[0m\n",
      "\n",
      "Número de passos: 43\n",
      "Números de moves: 31\n",
      "Números de pushes: 12\n"
     ]
    }
   ],
   "source": [
    "astar_resultado = astar_search(sokoban, hung_alg_manh)\n",
    "statistics(astar_resultado, caminho=True)"
   ]
  }
 ],
 "metadata": {
  "kernelspec": {
   "display_name": "Python 3",
   "language": "python",
   "name": "python3"
  },
  "language_info": {
   "codemirror_mode": {
    "name": "ipython",
    "version": 3
   },
   "file_extension": ".py",
   "mimetype": "text/x-python",
   "name": "python",
   "nbconvert_exporter": "python",
   "pygments_lexer": "ipython3",
   "version": "3.6.2"
  }
 },
 "nbformat": 4,
 "nbformat_minor": 2
}
