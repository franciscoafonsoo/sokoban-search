{
 "cells": [
  {
   "cell_type": "markdown",
   "metadata": {},
   "source": [
    "# Resolução de puzzles Sokoban"
   ]
  },
  {
   "cell_type": "markdown",
   "metadata": {},
   "source": [
    "## Nota sobre este relatório\n",
    "\n",
    "Foi utilizada a ferramenta Jupyter Notebook, para tirar proveito de algumas funcionalidades do IPython para análise estatística da execução dos algoritmos."
   ]
  },
  {
   "cell_type": "markdown",
   "metadata": {},
   "source": [
    "## Formulação\n",
    "\n",
    "Foi escolhido representar um estado do puzzle sokoban usando uma classe, `EstadoSokoban`, que vai ser descrita nesta capítulo.\n",
    "\n",
    "### Atributos\n",
    "\n",
    "A `EstadoSokoban` contém os seguintes atributos:\n",
    "\n",
    "- `tabuleiro`: lista de listas que representa o puzzle: Cada uma das listas interiores vão ter:\n",
    "\n",
    "    - ’#’   – para representar as paredes;\n",
    "    \n",
    "    - ’.’   – para representar as posições livres;\n",
    "    \n",
    "    - ’*’   – para representar as caixas;\n",
    "    \n",
    "    - ’o’   – (um ó minúsculo) para representar os alvos;\n",
    "    \n",
    "    - ’A’   – para representar o arrumador.\n",
    "    \n",
    "    - ’@’   – para representar uma caixa numa posição alvo.\n",
    "    \n",
    "    - ’B’   – para representar o arrumador em cima de uma posição alvo.\n",
    "    \n",
    "- `arrumador`: posição do arrumador, tuplo xy.\n",
    "\n",
    "- `caixas`: posição das caixas, tuplo xy.\n",
    "\n",
    "- `alvos`: posição dos alvos, tuplo xy.\n",
    "\n",
    "- `deadlocks`: posição de deadlocks, executando `deadlocks_tabuleiro()`\n",
    "\n",
    "### Métodos\n",
    "\n",
    "Para além da representação, foram implementados os seguintes métodos:\n",
    "\n",
    "- `pos_livre(self, x, y)`: verifica se uma posição do puzzle está livre, isto é, se o arrumador por andar para lá.\n",
    "\n",
    "- `pos_caixa(self, x, y)`: verifica se uma posição do puzzle tem uma caixa.\n",
    "\n",
    "- `ver_*(self, x, y)`: usa as funções anteriores para verificar a posição \"cima\", \"baixo\", \"direita\" e \"esquerda\" (cada uma destas opções são um método diferente.\n",
    "\n",
    "### Implementação da classe concreta `Problem`\n",
    "\n",
    "Para aplicar os algoritmos de procura de espaço de estados, foi usada uma implementação concreta da classe `Problem` que para além dos métodos abstratos (`actions()`, `result()`, `path_cost()` e `goal_test()`, foram ainda implementados os seguintes:\n",
    "\n",
    "- `pos_deadlock_canto`: Deteção de um estado em que uma caixa ficaria num canto.\n",
    "\n",
    "- `deadlock_parede`: (Paulo get in here ahah)\n",
    "\n",
    "- `em_cruzamento_com_alvo`: todo\n",
    "\n",
    "- `deadlocks_tabuleiro`: todo\n"
   ]
  },
  {
   "cell_type": "markdown",
   "metadata": {},
   "source": [
    "## Heurísticas definidas"
   ]
  },
  {
   "cell_type": "markdown",
   "metadata": {},
   "source": [
    "### Distância euclidiana do arrumador ao caixa mais próximo dele"
   ]
  },
  {
   "cell_type": "markdown",
   "metadata": {},
   "source": [
    "método: `heur_euclidean_usher_target(nodo)`"
   ]
  },
  {
   "cell_type": "markdown",
   "metadata": {},
   "source": [
    "A primeira heuristica programada foi a distância euclidiana do arrumador à caixa mais próximo. Esta heuristica é útil em puzzles em que o arrumador se encontra muito longe das caixas, ajudando a cortar muitos estados considerados ínuteis."
   ]
  },
  {
   "cell_type": "markdown",
   "metadata": {},
   "source": [
    "### Distância euclidiana do arrumador ao alvo mais próximo dele"
   ]
  },
  {
   "cell_type": "markdown",
   "metadata": {},
   "source": [
    "método: `heur_euclidean_usher_box(nodo)`"
   ]
  },
  {
   "cell_type": "markdown",
   "metadata": {},
   "source": [
    "A segunda heuristica programada foi a distância euclidiana do arrumador ao alvo mais próximo. Esta heuristica permite também aproximar o arrumador do seu objectivo em puzzles com muitos espaços livres."
   ]
  },
  {
   "cell_type": "markdown",
   "metadata": {},
   "source": [
    "### Algoritmo húngaro com distância de manhattan"
   ]
  },
  {
   "cell_type": "markdown",
   "metadata": {},
   "source": [
    "método: `hung_alg_manh(nodo)`"
   ]
  },
  {
   "cell_type": "markdown",
   "metadata": {},
   "source": [
    "Considere-se $n$ caixas e $m$ alvos. No jogo sokoban, $n=m$ para qualquer jogo. "
   ]
  },
  {
   "cell_type": "markdown",
   "metadata": {},
   "source": [
    "Como para cada $n_i$, só pode haver um $m_j$, e cada $n_i$ pode ir para qualquer $m_j$, as combinações deste problema formam um grafo bipartido completo $K_{n,m}$, como estudado na cadeira de Grafos e Redes."
   ]
  },
  {
   "cell_type": "markdown",
   "metadata": {},
   "source": [
    "Como o interesse é obter uma solução optima (menor custo) para este grafo, chega-se à conclusão que este é um Problema de Afetação, como estudado em Investigação Operacional."
   ]
  },
  {
   "cell_type": "markdown",
   "metadata": {},
   "source": [
    "Foi também escolhido uma forma de calcular um custo entre cada nodo caixa $n_i$ a um nodo alvo $m_j$ (neste caso baseado na distância de manhattan entre a caixa e o alvo)."
   ]
  },
  {
   "cell_type": "markdown",
   "metadata": {},
   "source": [
    "Nesta heurística, foi usado o algoritmo hungáro (estudado, também, no âmbito da cadeira de Investigação Operacional) para associar uma caixa a um alvo, baseado na melhor combinação de custos (Minimizar o custo global de $K_{n,m}$)."
   ]
  },
  {
   "cell_type": "markdown",
   "metadata": {},
   "source": [
    "A complexidade temporal deste algoritmo é de $O(n^3)$, que é bastante pesado, mas visto que nos puzzles dados têm todos $n ≤ 3$, vai ser possivel aplicar este algoritmo em tempo útil, como vamos testar na proximá secção.\n",
    "Visto que implementar o algoritmo hungáro sai fora do âmbito da cadeira, foi utilizada a implementação [1]: https://github.com/bmc/munkres.\n",
    "\n",
    "Todo o código necessário está disponivel no ficheiro hungarian.py e está sobre a licença Apache, permitindo o seu uso e modificação."
   ]
  },
  {
   "cell_type": "markdown",
   "metadata": {},
   "source": [
    "### Combinação das heuristicas anteriores"
   ]
  },
  {
   "cell_type": "markdown",
   "metadata": {},
   "source": [
    "Foram também programados algumas funções que combinam as anteriores:\n",
    "\n",
    "#### húngaro + distância eucl. a caixas: `hung_alg_manh_usher_to_box(nodo):`\n",
    "\n",
    "#### húngaro + distância eucl. a alvos: `hung_alg_manh_usher_to_target(nodo):`\n"
   ]
  },
  {
   "cell_type": "markdown",
   "metadata": {},
   "source": [
    "## Exemplos de execução"
   ]
  },
  {
   "cell_type": "markdown",
   "metadata": {},
   "source": [
    "No ficheiro `sokoban.py` estão as classes principais para a execução do puzzle. Todo o código de análise execução (apresentado neste relatório) está no ficheiro `run-sokoban.py`."
   ]
  },
  {
   "cell_type": "code",
   "execution_count": 5,
   "metadata": {},
   "outputs": [],
   "source": [
    "from sokoban import *"
   ]
  },
  {
   "cell_type": "markdown",
   "metadata": {},
   "source": [
    "## Análise dos algoritmos experimentados"
   ]
  },
  {
   "cell_type": "markdown",
   "metadata": {},
   "source": [
    "Vão ser utilizados os puzzles entregues no enunciado, entregue no enunciado, para testar os algorimos disponíveis no ficheiro `search.py`, do repositório aima-python, disponibilizado nas aulas. Para além desses, foram construidos mais 7 puzzles para aumentar a amostra estudada."
   ]
  },
  {
   "cell_type": "markdown",
   "metadata": {},
   "source": [
    "A função (definida em `run-sokoban`) `statistics` é método  para imprimir dados da resolução de um problema Sokoban."
   ]
  },
  {
   "cell_type": "code",
   "execution_count": 7,
   "metadata": {},
   "outputs": [],
   "source": [
    "def statistics(resultado, caminho=False):\n",
    "    path = resultado.path()\n",
    "    solucao = resultado.solution()\n",
    "    number_moves = 0\n",
    "    number_pushes = 0\n",
    "\n",
    "    for index, action in enumerate(solucao):\n",
    "        accao, _ = action.split()\n",
    "        if accao == 'andar':\n",
    "            number_moves += 1\n",
    "        else:\n",
    "            number_pushes += 1\n",
    "\n",
    "    for index, state in enumerate(path):\n",
    "        if caminho:\n",
    "            print(state)\n",
    "    else:\n",
    "        print('Número de passos:', index)\n",
    "\n",
    "    print('Números de moves:', number_moves)\n",
    "    print('Números de pushes:', number_pushes)"
   ]
  },
  {
   "cell_type": "code",
   "execution_count": null,
   "metadata": {},
   "outputs": [],
   "source": [
    "%%timeit \n",
    "ucs_resultado = uniform_cost_search(sokoban)"
   ]
  },
  {
   "cell_type": "code",
   "execution_count": null,
   "metadata": {},
   "outputs": [],
   "source": [
    "%%timeit\n",
    "bfs_resultado = breadth_first_search(sokoban)"
   ]
  },
  {
   "cell_type": "code",
   "execution_count": null,
   "metadata": {},
   "outputs": [],
   "source": [
    "bfs_resultado = breadth_first_search(sokoban)\n",
    "statistics(bfs_resultado)"
   ]
  },
  {
   "cell_type": "code",
   "execution_count": null,
   "metadata": {},
   "outputs": [],
   "source": [
    "ucs_resultado = uniform_cost_search(sokoban)\n",
    "statistics(ucs_resultado)"
   ]
  },
  {
   "cell_type": "code",
   "execution_count": null,
   "metadata": {},
   "outputs": [],
   "source": [
    "%%timeit\n",
    "astar_resultado = astar_search(sokoban, hung_alg_manh)"
   ]
  },
  {
   "cell_type": "code",
   "execution_count": null,
   "metadata": {},
   "outputs": [],
   "source": [
    "from hungarian import Munkres\n",
    "\n",
    "def hung_alg_manh(nodo):\n",
    "    \"\"\"Algoritmo hungaro, em que o custo de cada caixa a um alvo é a distância de manhattan.\"\"\"\n",
    "    m = Munkres()\n",
    "        \n",
    "    caixas = nodo.state.caixas\n",
    "    alvos = nodo.state.alvos\n",
    "    custo = list()\n",
    "    mhd = 0\n",
    "\n",
    "    for index, c in enumerate(caixas):\n",
    "        custo.append(list())\n",
    "        for a in alvos:\n",
    "            custo[index].append(abs(c[0] - a[0]) + abs(c[1] - a[1]))\n",
    "    \n",
    "    indexes = m.compute(custo)\n",
    "    for row, column in indexes:\n",
    "        value = custo[row][column]\n",
    "        mhd += value\n",
    "    \n",
    "    return mhd"
   ]
  },
  {
   "cell_type": "code",
   "execution_count": null,
   "metadata": {},
   "outputs": [],
   "source": [
    "astar_resultado = astar_search(sokoban, hung_alg_manh)\n",
    "statistics(astar_resultado, caminho=True)"
   ]
  },
  {
   "cell_type": "code",
   "execution_count": null,
   "metadata": {},
   "outputs": [],
   "source": []
  }
 ],
 "metadata": {
  "kernelspec": {
   "display_name": "Python 3",
   "language": "python",
   "name": "python3"
  },
  "language_info": {
   "codemirror_mode": {
    "name": "ipython",
    "version": 3
   },
   "file_extension": ".py",
   "mimetype": "text/x-python",
   "name": "python",
   "nbconvert_exporter": "python",
   "pygments_lexer": "ipython3",
   "version": "3.6.2"
  }
 },
 "nbformat": 4,
 "nbformat_minor": 2
}
