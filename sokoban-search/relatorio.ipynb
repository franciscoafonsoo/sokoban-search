{
 "cells": [
  {
   "cell_type": "markdown",
   "metadata": {},
   "source": [
    "# Resolução de puzzles Sokoban"
   ]
  },
  {
   "cell_type": "markdown",
   "metadata": {},
   "source": [
    "## Nota sobre este relatório\n",
    "\n",
    "Foi utilizada a ferramenta Jupyter Notebook, para tirar proveito de algumas funcionalidades do IPython para análise estatística da execução dos algoritmos."
   ]
  },
  {
   "cell_type": "markdown",
   "metadata": {},
   "source": [
    "## Formulação\n",
    "\n",
    "Foi escolhido representar um estado do puzzle sokoban usando a classe `EstadoSokoban` que vai ser descrita nesta capítulo.\n",
    "\n",
    "### Atributos\n",
    "\n",
    "A classe `EstadoSokoban` contém os seguintes atributos:\n",
    "\n",
    "- `tabuleiro`: lista de listas que representa o puzzle. Cada uma das listas interiores vai ter:\n",
    "\n",
    "    - ’#’   – para representar as paredes;\n",
    "    \n",
    "    - ’.’   – para representar as posições livres;\n",
    "    \n",
    "    - ’*’   – para representar as caixas;\n",
    "    \n",
    "    - ’o’   – (um ó minúsculo) para representar os alvos;\n",
    "    \n",
    "    - ’A’   – para representar o arrumador.\n",
    "    \n",
    "    - ’@’   – para representar uma caixa numa posição alvo.\n",
    "    \n",
    "    - ’B’   – para representar o arrumador em cima de uma posição alvo.\n",
    "    \n",
    "- `arrumador`: posição do arrumador, tuplo (x,y).\n",
    "\n",
    "- `caixas`: posição das caixas, lista de tuplos (x,y).\n",
    "\n",
    "- `alvos`: posição dos alvos, lista de tuplos (x,y).\n",
    "\n",
    "### Métodos\n",
    "\n",
    "Para além da representação, foram implementados os seguintes métodos:\n",
    "\n",
    "- `pos_livre(self, x, y)`: verifica se uma posição do puzzle está livre, isto é, se o arrumador pode ir para essa posição.\n",
    "\n",
    "- `pos_caixa(self, x, y)`: verifica se uma posição do puzzle tem uma caixa.\n",
    "\n",
    "- `ver_*(self, x, y)`: utiliza as funções anteriores para verificar as posições \"cima\", \"baixo\", \"direita\" e \"esquerda\" (a cada uma destas opções corresponde um método diferente). A função retorna a ação possível. Se a posição na direção desejada estiver livre, retorna WALK_direção. Se estiver uma caixa, e puder empurrar essa caixa (se na posição seguinte na mesma direção estiver livre), retorna PUSH_direção\n",
    "\n",
    "- __str__(self): retorno visual do estado\n",
    "\n",
    "- __gt__(self); __eq__(self, estado); __hash__(self, estado): são métodos necessários para a implementação dos algoritmos de procura com grafos\n",
    " \n",
    "### Implementação da classe concreta 'Problem'\n",
    "A classe 'Sokoban', extensão da classe 'Problem' tem o seguinte atributo:\n",
    "\n",
    "- 'estado_inicial': estado inicial com que o problema é inicializado.\n",
    "\n",
    "- 'tabuleiro_inicial': é uma redundância pois o tabuleiro está no estado_inicial, mas assim facilita a execução de alguns métodos.\n",
    "\n",
    "- 'deadlocks': lista de posições que são \"pontos mortos\", que vem do método 'deadlocks_tabuleiro(self)'\n",
    "\n",
    "Para aplicar os algoritmos de procura de espaço de estados, foi usada uma implementação concreta da classe `Problem` que para além dos métodos abstratos `actions()`, `result()`, `path_cost()` e `goal_test()`, foram ainda implementados os seguintes:\n",
    "\n",
    "- `pos_deadlock_canto`: Deteção de posições de canto, se os cantos não forem posições alvo. Posições em que a caixa perde liberdade nos 2 sentidos. Sabendo que se uma caixa for para uma posição destas não poderá sair de lá, evitamos que o arrumador teste os estados em que coloca as caixas nestas posições, garantindo assim uma maior rapidez e eficiência.\n",
    "\tExemplo:\n",
    "\t\t############\n",
    "\t\t#..........#\n",
    "\t\t#o...*...A.#\n",
    "\t\t#..........#\n",
    "\t\t############\n",
    "\tPegando no exemplo anterior, esta função retira os cantos, pois não estão lá alvos e são \"pontos mortos\", ou deadlocks.\n",
    "\tResultado:\n",
    "\t\t############\n",
    "\t\t#_........_#\n",
    "\t\t#o...*...A.#\n",
    "\t\t#_........_#\n",
    "\t\t############\n",
    "\tAssim, representado por \"_\", apenas para demonstração, estão as posições que serão acrescentadas à lista de deadlocks de tabuleiro que a classe Sokoban(Problem) tem.\n",
    "\n",
    "- `deadlock_parede`: Deteção das posições em que a caixa vai perder liberdade em 1 dos sentidos. Se ficar encostada a uma parede, e não houver um alvo nessa linha, ou coluna (paralela à parede), a caixa nunca poderá chegar ao alvo. Pegando no exemplo anterior:\n",
    "\tExemplo anterior:\n",
    "\t\t############\n",
    "\t\t#_........_#\n",
    "\t\t#o...*...A.#\n",
    "\t\t#_........_#\n",
    "\t\t############\n",
    "\tO que este método faz é, com base nos cantos detectados no método anterior, este método verifica se 2 cantos estão alinhados, quer na vertical ou na horizontal, e depois faz um varrimento para ver se é tudo parede entre esses 2 cantos ou não, e se não está em cruzamento com alvos. Serão detectadas mais posições, como mostramos a seguir:\t\n",
    "\n",
    "\t\t############\n",
    "\t\t#_%%%%%%%%_#\n",
    "\t\t#o...*...A.#\n",
    "\t\t#_%%%%%%%%_#\n",
    "\t\t############\n",
    "\tRepresentado por \"%\", apenas para demonstração, \n",
    "- `deadlocks_tabuleiro`: Este método usa os dois métodos anteriores para retornar uma lista completa de posições de deadlocks.\n"
   ]
  },
  {
   "cell_type": "markdown",
   "metadata": {},
   "source": [
    "## Heurísticas definidas"
   ]
  },
  {
   "cell_type": "markdown",
   "metadata": {},
   "source": [
    "### Distância euclidiana do arrumador à caixa mais próxima"
   ]
  },
  {
   "cell_type": "markdown",
   "metadata": {},
   "source": [
    "método: `heur_euclidean_usher_target(nodo)`"
   ]
  },
  {
   "cell_type": "markdown",
   "metadata": {},
   "source": [
    ""
   ]
  },
  {
   "cell_type": "markdown",
   "metadata": {},
   "source": [
    "A primeira heuristica programada foi a distância euclidiana do arrumador ao alvo mais próximo. Esta heuristica permite também aproximar o arrumador do seu objectivo em puzzles com muitos espaços livres."
   ]
  },
  {
   "cell_type": "markdown",
   "metadata": {},
   "source": [
    "### Distância euclidiana do arrumador ao alvo mais próximo"
   ]
  },
  {
   "cell_type": "markdown",
   "metadata": {},
   "source": [
    "método: `heur_euclidean_usher_box(nodo)`"
   ]
  },
  {
   "cell_type": "markdown",
   "metadata": {},
   "source": [
    "A segunda heuristica programada foi a distância euclidiana do arrumador à caixa mais próxima. Esta heuristica permite também aproximar o arrumador das caixas quando começa longe das caixas."
   ]
  },
  {
   "cell_type": "markdown",
   "metadata": {},
   "source": [
    "### Algoritmo húngaro com distância de manhattan"
   ]
  },
  {
   "cell_type": "markdown",
   "metadata": {},
   "source": [
    "método: `hung_alg_manh(nodo)`"
   ]
  },
  {
   "cell_type": "markdown",
   "metadata": {},
   "source": [
    "Considere-se $n$ caixas e $m$ alvos. No jogo sokoban, $n=m$ para qualquer puzzle. "
   ]
  },
  {
   "cell_type": "markdown",
   "metadata": {},
   "source": [
    "Sendo que a cada elemento de $n$ pode apenas corresponder um e um só elemento de $m$, apesar de $n_i$ poder corresponder a qualquer $m_j$ ( $\\forall{n, m}, n_{i} \\to m_{j}$), as combinações deste problema formam um grafo bipartido completo $K_{n,m}$, como estudado na cadeira de Grafos e Redes."
   ]
  },
  {
   "cell_type": "markdown",
   "metadata": {},
   "source": [
    "Como o interesse é obter uma solução óptima (menor custo) para este grafo chega-se à conclusão que este é um Problema de Afetação, como estudado em Investigação Operacional."
   ]
  },
  {
   "cell_type": "markdown",
   "metadata": {},
   "source": [
    "Foi também escolhida uma forma de calcular o custo de cada combinação possível $n_{i} \\to m_{j}$, neste caso baseada na distância de manhattan entre a caixa e o alvo."
   ]
  },
  {
   "cell_type": "markdown",
   "metadata": {},
   "source": [
    "Nesta heurística foi usado o algoritmo hungáro (estudado, também, no âmbito da cadeira de Investigação Operacional) para associar uma caixa a um alvo baseado na melhor combinação de custos (minimizar o custo global de $K_{n,m}$)."
   ]
  },
  {
   "cell_type": "markdown",
   "metadata": {},
   "source": [
    "A complexidade temporal deste algoritmo é de $O(n^3)$, o que é bastante pesado, mas visto que os puzzles dados têm todos $n ≤ 3$ vai ser possivel aplicar este algoritmo em tempo útil, como vamos testar na proxima secção.\n",
    "Visto que implementar o algoritmo hungáro sai fora do âmbito da cadeira, foi utilizada a implementação [1]: https://github.com/bmc/munkres.\n",
    "\n",
    "Todo o código necessário está disponivel no ficheiro hungarian.py e está sobre a licença Apache, permitindo o seu uso e modificação."
   ]
  },
  {
   "cell_type": "markdown",
   "metadata": {},
   "source": [
    "### Combinação das heuristicas anteriores"
   ]
  },
  {
   "cell_type": "markdown",
   "metadata": {},
   "source": [
    "Foram também programadas algumas funções que combinam as anteriores:\n",
    "\n",
    "húngaro + distância eucl. a caixas: `hung_alg_manh_usher_to_box(nodo):`\n",
    "\n",
    "húngaro + distância eucl. a alvos: `hung_alg_manh_usher_to_target(nodo):`\n"
   ]
  },
  {
   "cell_type": "markdown",
   "metadata": {},
   "source": [
    "## Exemplos de execução"
   ]
  },
  {
   "cell_type": "markdown",
   "metadata": {},
   "source": [
    "No ficheiro `sokoban.py` estão as classes principais para a execução do puzzle. Todo o código de análise de execução apresentado neste relatório está no ficheiro `run-sokoban.py`."
   ]
  },
  {
   "cell_type": "code",
   "execution_count": null,
   "metadata": {},
   "outputs": [],
   "source": [
    "from sokoban import *"
   ]
  },
  {
   "cell_type": "markdown",
   "metadata": {},
   "source": [
    "## Análise dos algoritmos experimentados"
   ]
  },
  {
   "cell_type": "markdown",
   "metadata": {},
   "source": [
    "Vão ser utilizados os puzzles entregues no enunciado para testar os algoritmos disponíveis no ficheiro `search.py` do repositório aima-python, disponibilizado nas aulas. Para além desses, foram construídos mais 7 puzzles para aumentar a amostra estudada."
   ]
  },
  {
   "cell_type": "markdown",
   "metadata": {},
   "source": [
    "A função `statistics` (definida em `run-sokoban`) é um método para imprimir dados da resolução de um problema Sokoban."
   ]
  },
  {
   "cell_type": "code",
   "execution_count": null,
   "metadata": {},
   "outputs": [],
   "source": [
    "def statistics(resultado, caminho=False):\n",
    "    path = resultado.path()\n",
    "    solucao = resultado.solution()\n",
    "    number_moves = 0\n",
    "    number_pushes = 0\n",
    "\n",
    "    for index, action in enumerate(solucao):\n",
    "        accao, _ = action.split()\n",
    "        if accao == 'andar':\n",
    "            number_moves += 1\n",
    "        else:\n",
    "            number_pushes += 1\n",
    "\n",
    "    for index, state in enumerate(path):\n",
    "        if caminho:\n",
    "            print(state)\n",
    "    else:\n",
    "        print('Número de passos:', index)\n",
    "\n",
    "    print('Números de moves:', number_moves)\n",
    "    print('Números de pushes:', number_pushes)"
   ]
  },
  {
   "cell_type": "code",
   "execution_count": 3,
   "metadata": {},
   "outputs": [],
   "source": [
    "puzzle = \"puzzle2.txt\"\n",
    "puzzle_estado = import_sokoban_file(\"puzzles/\" + puzzle)\n",
    "\n",
    "sokoban = Sokoban(puzzle_estado)"
   ]
  },
  {
   "cell_type": "code",
   "execution_count": 4,
   "metadata": {},
   "outputs": [
    {
     "name": "stdout",
     "output_type": "stream",
     "text": [
      "387 ms ± 111 ms per loop (mean ± std. dev. of 7 runs, 1 loop each)\n"
     ]
    }
   ],
   "source": [
    "%%timeit \n",
    "ucs_resultado = uniform_cost_search(sokoban)"
   ]
  },
  {
   "cell_type": "code",
   "execution_count": null,
   "metadata": {},
   "outputs": [
    {
     "name": "stdout",
     "output_type": "stream",
     "text": [
      "Número de passos: 43\n",
      "Números de moves: 31\n",
      "Números de pushes: 12\n"
     ]
    }
   ],
   "source": [
    "ucs_resultado = uniform_cost_search(sokoban)\n",
    "statistics(ucs_resultado)"
   ]
  },
  {
   "cell_type": "code",
   "execution_count": 5,
   "metadata": {},
   "outputs": [
    {
     "name": "stdout",
     "output_type": "stream",
     "text": [
      "333 ms ± 55.5 ms per loop (mean ± std. dev. of 7 runs, 1 loop each)\n"
     ]
    }
   ],
   "source": [
    "%%timeit\n",
    "bfs_resultado = breadth_first_search(sokoban)"
   ]
  },
  {
   "cell_type": "code",
   "execution_count": 6,
   "metadata": {},
   "outputs": [
    {
     "name": "stdout",
     "output_type": "stream",
     "text": [
      "Número de passos: 43\n",
      "Números de moves: 31\n",
      "Números de pushes: 12\n"
     ]
    }
   ],
   "source": [
    "bfs_resultado = breadth_first_search(sokoban)\n",
    "statistics(bfs_resultado)"
   ]
  },
  {
   "cell_type": "code",
   "execution_count": 8,
   "metadata": {},
   "outputs": [
    {
     "name": "stdout",
     "output_type": "stream",
     "text": [
      "339 ms ± 14.8 ms per loop (mean ± std. dev. of 7 runs, 1 loop each)\n"
     ]
    }
   ],
   "source": [
    "%%timeit\n",
    "astar_resultado = astar_search(sokoban, hung_alg_manh)"
   ]
  },
  {
   "cell_type": "code",
   "execution_count": 10,
   "metadata": {},
   "outputs": [
    {
     "name": "stdout",
     "output_type": "stream",
     "text": [
      "Número de passos: 43\n",
      "Números de moves: 31\n",
      "Números de pushes: 12\n"
     ]
    }
   ],
   "source": [
    "astar_resultado = astar_search(sokoban, hung_alg_manh)\n",
    "statistics(astar_resultado)"
   ]
  },
  {
   "cell_type": "code",
   "execution_count": 13,
   "metadata": {},
   "outputs": [
    {
     "name": "stdout",
     "output_type": "stream",
     "text": [
      "76.1 ms ± 3.47 ms per loop (mean ± std. dev. of 7 runs, 10 loops each)\n"
     ]
    }
   ],
   "source": [
    "%%timeit\n",
    "greedy_resultado = greedy_best_first_graph_search(sokoban, hung_alg_manh)"
   ]
  },
  {
   "cell_type": "code",
   "execution_count": 14,
   "metadata": {},
   "outputs": [
    {
     "name": "stdout",
     "output_type": "stream",
     "text": [
      "Número de passos: 47\n",
      "Números de moves: 35\n",
      "Números de pushes: 12\n"
     ]
    }
   ],
   "source": [
    "greedy_resultado = greedy_best_first_graph_search(sokoban, hung_alg_manh)\n",
    "statistics(greedy_resultado)"
   ]
  }
 ],
 "metadata": {
  "kernelspec": {
   "display_name": "Python 3",
   "language": "python",
   "name": "python3"
  },
  "language_info": {
   "codemirror_mode": {
    "name": "ipython",
    "version": 3
   },
   "file_extension": ".py",
   "mimetype": "text/x-python",
   "name": "python",
   "nbconvert_exporter": "python",
   "pygments_lexer": "ipython3",
   "version": "3.6.2"
  }
 },
 "nbformat": 4,
 "nbformat_minor": 2
}
