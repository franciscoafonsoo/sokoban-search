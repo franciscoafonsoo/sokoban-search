{
 "cells": [
  {
   "cell_type": "markdown",
   "metadata": {},
   "source": [
    "# Resolução de puzzles Sokoban"
   ]
  },
  {
   "cell_type": "markdown",
   "metadata": {},
   "source": [
    "## Formulação\n",
    "\n",
    "### Atributos\n",
    "\n",
    "Foi escolhido representar um estado do puzzle sokoban usando uma class `EstadoSokoban` que tem como atributos:\n",
    "\n",
    "- `tabuleiro`: lista de listas que representa o puzzle: Cada uma das litas interiores vão ter:\n",
    "\n",
    "    - ’#’   – para representar as paredes;\n",
    "    \n",
    "    - ’.’   – para representar as posições livres;\n",
    "    \n",
    "    - ’*’   – para representar as caixas;\n",
    "    \n",
    "    - ’o’   – (um ó minúsculo) para representar os alvos;\n",
    "    \n",
    "    - ’A’   – para representar o arrumador.\n",
    "    \n",
    "    - ’@’   – para representar uma caixa numa posição alvo.\n",
    "    \n",
    "    - ’B’   – para representar o arrumador em cima de uma posição alvo.\n",
    "    \n",
    "- `arrumador`: posição do arrumador, tuplo xy.\n",
    "\n",
    "- `caixas`: posição das caixas, tuplo xy.\n",
    "\n",
    "- `alvos`: posição dos alvos, tuplo xy.\n",
    "\n",
    "- `deadlocks`: posição de deadlocks, executando `deadlocks_tabuleiro()`\n",
    "\n",
    "### Métodos\n",
    "\n",
    "Para além da representação, foram implementados os seguintes métodos:\n",
    "\n",
    "- `pos_livre(self, x, y)`: verifica se uma posição do puzzle está livre, isto é, se o arrumador por andar para lá.\n",
    "\n",
    "- `pos_caixa(self, x, y)`: verifica se uma posição do puzzle tem uma caixa.\n",
    "\n",
    "- `ver_*(self, x, y)`: usa as funções anteriores para verificar a posição \"cima\", \"baixo\", \"direita\" e \"esquerda\" (cada uma destas opções são um método diferente.\n",
    "\n",
    "## Nota sobre este relatório\n",
    "\n",
    "Utilizamos a ferramenta Jupyter Notebook, para tirar proveito de algumas funcionalidades do IPython para análise estatística da execução dos algoritmos."
   ]
  },
  {
   "cell_type": "markdown",
   "metadata": {},
   "source": [
    "## Heurísticas definidas"
   ]
  },
  {
   "cell_type": "markdown",
   "metadata": {},
   "source": [
    "## Exemplos de execução"
   ]
  },
  {
   "cell_type": "markdown",
   "metadata": {},
   "source": [
    "No ficheiro `sokoban.py` estão as classes principais para a execução do puzzle. Todo o código de análise execução (apresentado neste relatório) está no ficheiro `run-sokoban.py`."
   ]
  },
  {
   "cell_type": "code",
   "execution_count": 1,
   "metadata": {},
   "outputs": [
    {
     "name": "stdout",
     "output_type": "stream",
     "text": [
      "\n",
      "IPython CPU timings (estimated):\n",
      "  User   :       0.01 s.\n",
      "  System :       0.00 s.\n",
      "Wall time:       0.01 s.\n"
     ]
    }
   ],
   "source": [
    "%run -t sokoban.py"
   ]
  },
  {
   "cell_type": "markdown",
   "metadata": {},
   "source": [
    "## Análise dos algoritmos experimentados"
   ]
  },
  {
   "cell_type": "markdown",
   "metadata": {},
   "source": [
    "Vai ser utilizado o puzzle2, entregue no enunciado, para testar os algorimos disponíveis no ficheiro `search.py`, do repositório aima-python, disponibilizado nas aulas."
   ]
  },
  {
   "cell_type": "code",
   "execution_count": 2,
   "metadata": {},
   "outputs": [],
   "source": [
    "sokoban = Sokoban(puzzle2)\n",
    "\n",
    "def statistics(resultado, verbose=False):\n",
    "    '''Metodo concreto para imprimir dados da resolução de um problema Sokoban'''\n",
    "    path = resultado.path()\n",
    "    solucao = resultado.solution()\n",
    "    number_moves = 0\n",
    "    number_pushes = 0\n",
    "\n",
    "    for index, action in enumerate(solucao):\n",
    "        accao, _ = action.split()\n",
    "        if accao == 'andar':\n",
    "            number_moves += 1\n",
    "        else:\n",
    "            number_pushes += 1\n",
    "\n",
    "    for index, state in enumerate(path):\n",
    "        if verbose:\n",
    "            print(state)\n",
    "    else:\n",
    "        print('Número de passos:', index)\n",
    "\n",
    "    print('Números de moves:', number_moves)\n",
    "    print('Números de pushes:', number_pushes)"
   ]
  },
  {
   "cell_type": "code",
   "execution_count": 3,
   "metadata": {},
   "outputs": [
    {
     "name": "stdout",
     "output_type": "stream",
     "text": [
      "1.71 s ± 221 ms per loop (mean ± std. dev. of 7 runs, 1 loop each)\n"
     ]
    }
   ],
   "source": [
    "%%timeit \n",
    "ucs_resultado = uniform_cost_search(sokoban)"
   ]
  },
  {
   "cell_type": "code",
   "execution_count": 4,
   "metadata": {},
   "outputs": [
    {
     "name": "stdout",
     "output_type": "stream",
     "text": [
      "1.6 s ± 145 ms per loop (mean ± std. dev. of 7 runs, 1 loop each)\n"
     ]
    }
   ],
   "source": [
    "%%timeit\n",
    "bfs_resultado = breadth_first_search(sokoban)"
   ]
  },
  {
   "cell_type": "code",
   "execution_count": 5,
   "metadata": {},
   "outputs": [
    {
     "name": "stdout",
     "output_type": "stream",
     "text": [
      "Número de passos: 43\n",
      "Números de moves: 31\n",
      "Números de pushes: 12\n"
     ]
    }
   ],
   "source": [
    "bfs_resultado = breadth_first_search(sokoban)\n",
    "statistics(bfs_resultado)"
   ]
  },
  {
   "cell_type": "code",
   "execution_count": 6,
   "metadata": {},
   "outputs": [
    {
     "name": "stdout",
     "output_type": "stream",
     "text": [
      "Número de passos: 43\n",
      "Números de moves: 31\n",
      "Números de pushes: 12\n"
     ]
    }
   ],
   "source": [
    "ucs_resultado = uniform_cost_search(sokoban)\n",
    "statistics(ucs_resultado)"
   ]
  },
  {
   "cell_type": "code",
   "execution_count": 7,
   "metadata": {},
   "outputs": [
    {
     "name": "stdout",
     "output_type": "stream",
     "text": [
      "1.88 s ± 317 ms per loop (mean ± std. dev. of 7 runs, 1 loop each)\n"
     ]
    }
   ],
   "source": [
    "%%timeit\n",
    "astar_resultado = astar_search(sokoban, max_heuristic)"
   ]
  },
  {
   "cell_type": "code",
   "execution_count": 8,
   "metadata": {},
   "outputs": [
    {
     "name": "stdout",
     "output_type": "stream",
     "text": [
      "Número de passos: 43\n",
      "Números de moves: 31\n",
      "Números de pushes: 12\n"
     ]
    }
   ],
   "source": [
    "astar_resultado = astar_search(sokoban, max_heuristic)\n",
    "statistics(astar_resultado)"
   ]
  }
 ],
 "metadata": {
  "kernelspec": {
   "display_name": "Python 3",
   "language": "python",
   "name": "python3"
  },
  "language_info": {
   "codemirror_mode": {
    "name": "ipython",
    "version": 3
   },
   "file_extension": ".py",
   "mimetype": "text/x-python",
   "name": "python",
   "nbconvert_exporter": "python",
   "pygments_lexer": "ipython3",
   "version": "3.6.2"
  }
 },
 "nbformat": 4,
 "nbformat_minor": 2
}
